{
  "nbformat": 4,
  "nbformat_minor": 0,
  "metadata": {
    "colab": {
      "provenance": [],
      "include_colab_link": true
    },
    "kernelspec": {
      "name": "python3",
      "display_name": "Python 3"
    },
    "language_info": {
      "name": "python"
    }
  },
  "cells": [
    {
      "cell_type": "markdown",
      "metadata": {
        "id": "view-in-github",
        "colab_type": "text"
      },
      "source": [
        "<a href=\"https://colab.research.google.com/github/NickSalA/Quimica/blob/PC/Actividad_Estado_Gaseoso_Nick_Emanuel_Salcedo_Alfaro.ipynb\" target=\"_parent\"><img src=\"https://colab.research.google.com/assets/colab-badge.svg\" alt=\"Open In Colab\"/></a>"
      ]
    },
    {
      "cell_type": "markdown",
      "source": [
        " ***1.1.*** Calcula el volumen ocupado por 2 moles de gas a una presión de 3 atmósferas y una temperatura de 300 K.\n"
      ],
      "metadata": {
        "id": "k0wGBgNHScJW"
      }
    },
    {
      "cell_type": "code",
      "source": [
        "n=2       #mol\n",
        "P=3       #atm\n",
        "T=300     #K\n",
        "R=0.082\n",
        "#Formula aplicada: PV=RTn\n",
        "V=R*T*n/P  #L\n",
        "print(f'El volumen ocupado es {round(V,4)}L')"
      ],
      "metadata": {
        "colab": {
          "base_uri": "https://localhost:8080/"
        },
        "id": "-5IJSxkhNi82",
        "outputId": "83e3b377-8641-495e-b38d-03666bd30c9f"
      },
      "execution_count": null,
      "outputs": [
        {
          "output_type": "stream",
          "name": "stdout",
          "text": [
            "Formula aplicada: PV=RTn\n",
            "El volumen ocupado es 16.4 L\n"
          ]
        }
      ]
    },
    {
      "cell_type": "markdown",
      "source": [
        "***1.2.*** En condiciones estándar, ¿cuántos moles de gas hay en 5 litros de oxígeno (O2)?"
      ],
      "metadata": {
        "id": "0vTCc2qwNc7O"
      }
    },
    {
      "cell_type": "code",
      "source": [
        "\"\"\"En condiciones normales:\n",
        "T=273.15\n",
        "P=1\n",
        "R=0.0082\"\"\"\n",
        "V=5         #L\n",
        "T=273.15    #K\n",
        "P=1         #atm\n",
        "R=0.0821\n",
        "#Formula aplicada: PV=RTn\n",
        "n=V*P/(R*T) #mol\n",
        "print(f'El numero de moles del gas es {round(n,4)}mol')\n",
        "\n"
      ],
      "metadata": {
        "colab": {
          "base_uri": "https://localhost:8080/"
        },
        "id": "RIovEtzMPAkt",
        "outputId": "fca1a123-23c0-4227-cbf6-8a4de719529f"
      },
      "execution_count": null,
      "outputs": [
        {
          "output_type": "stream",
          "name": "stdout",
          "text": [
            "Formula aplicada: PV=RTn\n",
            "El numero de moles del gas es 0.223mol\n"
          ]
        }
      ]
    },
    {
      "cell_type": "markdown",
      "source": [
        "\n",
        "\n",
        "---\n",
        "\n"
      ],
      "metadata": {
        "id": "ploPNR2XS8g9"
      }
    },
    {
      "cell_type": "markdown",
      "source": [
        "***2.1.*** ¿Cuál es la principal característica que distingue a los gases de los líquidos y sólidos?"
      ],
      "metadata": {
        "id": "-rzzMAdVSMLH"
      }
    },
    {
      "cell_type": "markdown",
      "source": [
        "La principal característica que distingue a los gases de los líquidos y sólidos es su capacidad para ocupar todo el volumen del recipiente que los contiene.\n",
        "\n",
        "\n",
        "Mientras que los líquidos y sólidos tienen un volumen propio y una forma definida, los gases no tienen volumen propio ni forma propia, asumiendo la forma del contenedor en el que se encuentran. Esta propiedad se debe a que las partículas de los gases están muy separadas entre sí y se mueven en líneas rectas en direcciones aleatorias hasta que chocan con otra partícula o con la pared del contenedor."
      ],
      "metadata": {
        "id": "f2k3ML2gRqbV"
      }
    },
    {
      "cell_type": "markdown",
      "source": [
        "***2.5.*** ¿Por qué los gases no tienen una forma o un volumen definidos?\n"
      ],
      "metadata": {
        "id": "O1FJhf2tSkTV"
      }
    },
    {
      "cell_type": "markdown",
      "source": [
        "Los gases carecen de forma y volumen definidos debido a:\n",
        "\n",
        "1. *Fuerza de atracción intermolecular débil:*\n",
        "   Los gases tienen una atracción intermolecular mínima, permitiendo que sus moléculas se dispersen libremente en el espacio del contenedor.\n",
        "\n",
        "2. *Amplio espacio intermolecular:*\n",
        "   La considerable separación entre las moléculas de gas genera un gran espacio intermolecular, facilitando su expansión y ocupación total del recipiente.\n",
        "\n",
        "3. *Compresibilidad:*\n",
        "   Los gases son altamente compresibles debido al extenso espacio vacío entre sus moléculas, permitiendo una reducción significativa de volumen bajo presión. Esto contrasta con líquidos y sólidos menos compresibles debido a sus fuerzas intermoleculares más fuertes y menor espacio entre partículas.\n",
        "\n",
        "4. *Teoría cinético-molecular:*\n",
        "   La teoría cinético-molecular describe que las moléculas de gas se mueven aleatoriamente y colisionan entre sí y con las paredes del recipiente, lo que contribuye a la falta de forma y volumen definidos en los gases."
      ],
      "metadata": {
        "id": "ZrtqnSD3RQIG"
      }
    },
    {
      "cell_type": "markdown",
      "source": [
        "\n",
        "\n",
        "---\n",
        "\n"
      ],
      "metadata": {
        "id": "BE2dVxk2S-kO"
      }
    },
    {
      "cell_type": "markdown",
      "source": [
        "***3.1.*** Calcula la presión ejercida por 0.5 moles de gas en un recipiente de 10 litros a 25°C."
      ],
      "metadata": {
        "id": "qPlkFHOUTRGP"
      }
    },
    {
      "cell_type": "code",
      "source": [
        "n=0.5             #mol\n",
        "V=10              #L\n",
        "TCelsius=25       #°C\n",
        "T=25+273.15          #K\n",
        "R=0.0821\n",
        "#Formula aplicada: PV=RTn\n",
        "P=R*T*n/V\n",
        "print(f'La presion ejercida es de {round(P,4)}atm')"
      ],
      "metadata": {
        "colab": {
          "base_uri": "https://localhost:8080/"
        },
        "id": "mFg8t-eCTWHt",
        "outputId": "99af1215-80a9-43de-98bc-50cc18cd446b"
      },
      "execution_count": null,
      "outputs": [
        {
          "output_type": "stream",
          "name": "stdout",
          "text": [
            "Formula aplicada: PV=RTn\n",
            "La presion ejercida es de 1.2218atm\n"
          ]
        }
      ]
    },
    {
      "cell_type": "markdown",
      "source": [
        "***3.4.*** Si un gas ocupa 500 ml a una presión de 750 mmHg, ¿cuál es su volumen a 1 atmósfera?"
      ],
      "metadata": {
        "id": "57nUBGcqU8vG"
      }
    },
    {
      "cell_type": "code",
      "source": [
        "V1=500 #mL\n",
        "P1=750 #mmHg\n",
        "#1 atm = 760mmHg\n",
        "P2= 760 #mmHg\n",
        "#Formula aplicada: V1*P1=V2*P2\n",
        "V2=V1*P1/P2\n",
        "print(f'El volumen a 1 atmosfera es {round(V2,4)}mL')"
      ],
      "metadata": {
        "colab": {
          "base_uri": "https://localhost:8080/"
        },
        "id": "NkcGzprjU_v_",
        "outputId": "c950bdea-1a17-448f-90da-a8519d783882"
      },
      "execution_count": null,
      "outputs": [
        {
          "output_type": "stream",
          "name": "stdout",
          "text": [
            "1 atm = 760mmHg\n",
            "Formula aplicada: V1*P1=V2*P2\n",
            "El volumen a 1 atmosfera es 493.4211\n"
          ]
        }
      ]
    },
    {
      "cell_type": "markdown",
      "source": [
        "\n",
        "\n",
        "---\n",
        "\n"
      ],
      "metadata": {
        "id": "pEN3HZp0Wclm"
      }
    },
    {
      "cell_type": "markdown",
      "source": [
        "***4.1.*** ¿Cuáles son los postulados clave de la teoría cinético-molecular de los gases?"
      ],
      "metadata": {
        "id": "ByneqlVEWfC1"
      }
    },
    {
      "cell_type": "markdown",
      "source": [
        "Los postulados clave de la teoría cinético-molecular de los gases son:\n",
        "\n",
        "1. Las moléculas en un gas son pequeñas y están muy separadas. La mayor parte del volumen que ocupa un gas es espacio vacío.\n",
        "\n",
        "2. Las moléculas de gas están en constante movimiento aleatorio. Así como muchas moléculas se mueven en una dirección, también se mueven en cualquier otra.\n",
        "\n",
        "3. Las moléculas pueden chocar entre sí y con las paredes del contenedor. Las colisiones con las paredes explican la presión del gas.\n",
        "\n",
        "4. Las moléculas de gas no ejercen ninguna fuerza atractiva o repulsiva sobre las paredes del contenedor; por lo tanto, sus colisiones son elásticas (no implican una pérdida de energía).\n",
        "\n",
        "5. La energía cinética media de las moléculas de gas es proporcional a la temperatura kelvin del gas. Todos los gases, independientemente de su masa molecular, tienen la misma energía cinética media a una temperatura dada."
      ],
      "metadata": {
        "id": "nxqO45nBWteH"
      }
    },
    {
      "cell_type": "markdown",
      "source": [
        "***4.5.*** Explica por qué la teoría cinético-molecular se aplica mejor a los gases ideales que a los gases reales."
      ],
      "metadata": {
        "id": "-FLXHhK4W1OW"
      }
    },
    {
      "cell_type": "markdown",
      "source": [
        "La teoría cinético-molecular se aplica de manera más adecuada a los gases ideales que a los gases reales debido a varias razones:\n",
        "\n",
        "1. *Simplificación del modelo*: La teoría cinético-molecular es un modelo simplificado que asume condiciones ideales, como moléculas de tamaño despreciable y ausencia de fuerzas intermoleculares. Estas simplificaciones se ajustan mejor a los gases ideales, que tienen moléculas pequeñas y distancias intermoleculares grandes. En contraste, los gases reales tienen moléculas con volúmenes distintos de cero y experimentan fuerzas intermoleculares.\n",
        "\n",
        "2. *Comportamiento macroscópico*: La teoría cinético-molecular se basa en el movimiento aleatorio de moléculas y colisiones para explicar el comportamiento macroscópico de los gases. Aunque los gases reales también exhiben este comportamiento, las interacciones y volúmenes moleculares no despreciables afectan su comportamiento de manera significativa, aspectos no considerados en el modelo de gases ideales.\n",
        "\n",
        "3. *Desviaciones del comportamiento ideal*: Los gases reales no siguen completamente las leyes de los gases ideales, como las leyes de Boyle, Charles y Avogadro, debido a interacciones intermoleculares y volúmenes moleculares. Para describir el comportamiento de los gases reales, se han desarrollado ecuaciones más complejas, como la ecuación de van der Waals, que incorporan constantes empíricas para corregir estas desviaciones."
      ],
      "metadata": {
        "id": "rwJuJ_DSXgom"
      }
    },
    {
      "cell_type": "markdown",
      "source": [
        "\n",
        "\n",
        "---\n",
        "\n"
      ],
      "metadata": {
        "id": "WM5SN0sdXtG4"
      }
    },
    {
      "cell_type": "markdown",
      "source": [
        "***5.2.*** Si tienes un gas que ocupa 10 litros a 3 atmósferas de presión y 273 K de temperatura, ¿cuántos moles de gas tienes?"
      ],
      "metadata": {
        "id": "gkkSba-2XuBe"
      }
    },
    {
      "cell_type": "code",
      "source": [
        "\n",
        "P = 3  # atm\n",
        "V= 10  # L\n",
        "T = 273.15  # K\n",
        "R = 0.0821\n",
        "\n",
        "#Formula aplicada: PV=RTn\n",
        "n = (P * V) / (R * T)\n",
        "\n",
        "print(f'La cantidad de moles de gas es: {round(n,4)}mol')\n"
      ],
      "metadata": {
        "colab": {
          "base_uri": "https://localhost:8080/"
        },
        "id": "LEvRx1gJX09t",
        "outputId": "6d54cdc3-d082-4ba9-c3a6-336fe986df17"
      },
      "execution_count": null,
      "outputs": [
        {
          "output_type": "stream",
          "name": "stdout",
          "text": [
            "Formula aplicada: PV=RTn\n",
            "La cantidad de moles de gas es: 1.3385mol\n"
          ]
        }
      ]
    },
    {
      "cell_type": "markdown",
      "source": [
        "***5.3.*** ¿Cuál es el volumen molar de un gas ideal a 1 atmósfera de presión y 0°C?"
      ],
      "metadata": {
        "id": "Ff6Fpro8YWRG"
      }
    },
    {
      "cell_type": "code",
      "source": [
        "\n",
        "R = 0.0821\n",
        "P= 1  # atm\n",
        "T= 273.15  # K\n",
        "\n",
        "# Calcular el volumen molar en litros/mol\n",
        "volumen_molar = (R * T) / P\n",
        "print(f'El volumen molar del gas ideal a 1 atmósfera y 0°C es aproximadamente {round(volumen_molar,4)} L/mol')\n"
      ],
      "metadata": {
        "colab": {
          "base_uri": "https://localhost:8080/"
        },
        "id": "RzXiMWgGYSIu",
        "outputId": "1a4afd8c-5c95-4b34-d645-cada545a2afc"
      },
      "execution_count": null,
      "outputs": [
        {
          "output_type": "stream",
          "name": "stdout",
          "text": [
            "El volumen molar del gas ideal a 1 atmósfera y 0°C es aproximadamente 22.4256 L/mol\n"
          ]
        }
      ]
    },
    {
      "cell_type": "markdown",
      "source": [
        "***6.1.*** Un recipiente de 2 litros contiene 1 mol de gas a 300 K. Si la presión se duplica manteniendo\n",
        "el volumen constante, ¿cuál será la nueva temperatura?"
      ],
      "metadata": {
        "id": "qm5ZFriGNIpU"
      }
    },
    {
      "cell_type": "code",
      "source": [
        "#1° caso:\n",
        "V=2       #L\n",
        "n=1       #mol\n",
        "T1=300    #K\n",
        "R=0.0821\n",
        "#Formula aplicada: PV=RTn\n",
        "P=R*T*n/V #atm\n",
        "T2=2*P*V/(R*n)\n",
        "print(f'La nueva temperatura sera de {T2}K')"
      ],
      "metadata": {
        "id": "0pPJ2NbSaLZt",
        "outputId": "ec8ffa87-3bd2-4d7a-9752-43e7da31cf2b",
        "colab": {
          "base_uri": "https://localhost:8080/"
        }
      },
      "execution_count": null,
      "outputs": [
        {
          "output_type": "stream",
          "name": "stdout",
          "text": [
            "La nueva temperatura sera de 546.3K\n"
          ]
        }
      ]
    },
    {
      "cell_type": "markdown",
      "source": [
        "***6.4.*** Un recipiente de gas contiene 0.5 moles de gas a una temperatura de 27 °C. Si la presión se\n",
        "triplica manteniendo constante el volumen, ¿cuál será la nueva temperatura?"
      ],
      "metadata": {
        "id": "JTp0U4GmRtcT"
      }
    },
    {
      "cell_type": "code",
      "source": [
        "n=0.5\n",
        "#K=C+273.15\n",
        "T1=27+273.15\n",
        "#P1*V1/T1=P2*V2/T2\n",
        "P1=1\n",
        "P2=3\n",
        "T2=P2/P1*T1\n",
        "print(f'La nueva temperatura es de {round(T2,4)}K')"
      ],
      "metadata": {
        "id": "AEJC334JQJu5",
        "outputId": "9e2d8faa-0fe2-4c48-fd1f-dce74c3f561b",
        "colab": {
          "base_uri": "https://localhost:8080/"
        }
      },
      "execution_count": null,
      "outputs": [
        {
          "output_type": "stream",
          "name": "stdout",
          "text": [
            "La nueva temperatura es de 900.45K\n"
          ]
        }
      ]
    },
    {
      "cell_type": "markdown",
      "source": [
        "\n",
        "\n",
        "---\n",
        "\n"
      ],
      "metadata": {
        "id": "HT5xiGthTyNi"
      }
    },
    {
      "cell_type": "markdown",
      "source": [
        "***7.1.*** Un globo se llena con 2 moles de gas a 25 °C. Si el volumen inicial es de 5 litros, ¿cuál será el\n",
        "volumen a 50 °C, manteniendo constante la presión?"
      ],
      "metadata": {
        "id": "M1bHl3gwTzWV"
      }
    },
    {
      "cell_type": "code",
      "source": [
        "n=2\n",
        "T1=25+273.15\n",
        "V1=5\n",
        "T2=50+273.15\n",
        "#V1/T1=V2/T2 si P es constante\n",
        "V2=V1*T2/T1\n",
        "print(f'El nuevo volumen es de {round(V2,4)}L')"
      ],
      "metadata": {
        "id": "XzoPIB_ET6uP",
        "outputId": "a8567891-7bcd-46c2-92e7-09c8237917ed",
        "colab": {
          "base_uri": "https://localhost:8080/"
        }
      },
      "execution_count": null,
      "outputs": [
        {
          "output_type": "stream",
          "name": "stdout",
          "text": [
            "El nuevo volumen es de 5.4193L\n"
          ]
        }
      ]
    },
    {
      "cell_type": "markdown",
      "source": [
        "***7.2.*** Si un gas ocupa un volumen de 2 litros a 0 °C, ¿cuál será el volumen a 100 °C si la presión se\n",
        "mantiene constante?"
      ],
      "metadata": {
        "id": "cB6Sh0KvV9gn"
      }
    },
    {
      "cell_type": "code",
      "source": [
        "V1=2\n",
        "T1=0+273\n",
        "#V1/T1=V2/T2 si P es constante\n",
        "T2=100+273\n",
        "V2=V1*T2/T1\n",
        "print(f'El nuevo volumen es de {round(V2,4)}L')"
      ],
      "metadata": {
        "id": "nBTPjULHTkhh",
        "outputId": "9d4cf344-8650-48b9-96e6-28ba313b64b5",
        "colab": {
          "base_uri": "https://localhost:8080/"
        }
      },
      "execution_count": null,
      "outputs": [
        {
          "output_type": "stream",
          "name": "stdout",
          "text": [
            "El nuevo volumen es de 2.7326L\n"
          ]
        }
      ]
    },
    {
      "cell_type": "markdown",
      "source": [
        "\n",
        "\n",
        "---\n",
        "\n"
      ],
      "metadata": {
        "id": "fAdaJxUqW0Uc"
      }
    },
    {
      "cell_type": "markdown",
      "source": [
        "***8.1.*** Un gas ocupa 2 litros a una presión de 3 atmósferas. Si se comprime a 1 litro, ¿cuál será la\n",
        "nueva presión a temperatura constante?"
      ],
      "metadata": {
        "id": "z5d3L52CW1Pg"
      }
    },
    {
      "cell_type": "code",
      "source": [
        "V1=2\n",
        "P1=3\n",
        "#V1*P1=V2*P2\n",
        "V2=1\n",
        "P2=V1*P1/V2\n",
        "print(f'La nueva presion es de {P2}atm')"
      ],
      "metadata": {
        "id": "GV_c5zkMWxtN",
        "outputId": "4bb7be84-338c-4158-bced-638f8075de3b",
        "colab": {
          "base_uri": "https://localhost:8080/"
        }
      },
      "execution_count": null,
      "outputs": [
        {
          "output_type": "stream",
          "name": "stdout",
          "text": [
            "La nueva presion es de 6.0atm\n"
          ]
        }
      ]
    },
    {
      "cell_type": "markdown",
      "source": [
        "***8.4.*** Un gas a 2 atmósferas de presión ocupa un volumen de 12 litros. ¿Cuál sería el nuevo\n",
        "volumen si la presión se reduce a 1 atmósfera?"
      ],
      "metadata": {
        "id": "R4md4tsRmyBG"
      }
    },
    {
      "cell_type": "code",
      "source": [
        "P1=2\n",
        "V1=12\n",
        "#P1*V1=P2*V2\n",
        "P2=1\n",
        "V2=P1*V1/P2\n",
        "print(f'El nuevo volumen es de {V2}L')"
      ],
      "metadata": {
        "id": "BZVxA3I6muXw",
        "outputId": "721b1f91-a338-46ce-a0c4-e152dd371407",
        "colab": {
          "base_uri": "https://localhost:8080/"
        }
      },
      "execution_count": null,
      "outputs": [
        {
          "output_type": "stream",
          "name": "stdout",
          "text": [
            "El nuevo volumen es de 24.0L\n"
          ]
        }
      ]
    },
    {
      "cell_type": "markdown",
      "source": [
        "\n",
        "\n",
        "---\n",
        "\n"
      ],
      "metadata": {
        "id": "sAJs7xhynKq1"
      }
    },
    {
      "cell_type": "markdown",
      "source": [
        "***9.3.*** Un tanque contiene helio (He) y argón (Ar) a una presión total de 5 atmósferas. Si la presión\n",
        "parcial de He es de 3 atmósferas, ¿cuál es la presión parcial de Ar?"
      ],
      "metadata": {
        "id": "-JAnL718nNPJ"
      }
    },
    {
      "cell_type": "code",
      "source": [
        "\"\"\"Ptotal=5\n",
        "PHe=3\n",
        "FHe=PHe/Ptotal\n",
        "FAr=1-FHe\n",
        "PAr=Ptotal*FAr\"\"\"\n",
        "Ptotal=5\n",
        "PHe=3\n",
        "PAr=Ptotal-PHe\n",
        "print(f'La presion parcial de Ar es {PAr} atm')\n"
      ],
      "metadata": {
        "id": "pgEzjs0OnJl9",
        "outputId": "9385d820-d20e-4f6b-ca46-4982b0547141",
        "colab": {
          "base_uri": "https://localhost:8080/"
        }
      },
      "execution_count": null,
      "outputs": [
        {
          "output_type": "stream",
          "name": "stdout",
          "text": [
            "La presion parcial de Ar es 2atm\n"
          ]
        }
      ]
    },
    {
      "cell_type": "markdown",
      "source": [
        "***9.4.*** En un recipiente, la presión parcial de dióxido de carbono (CO2) es de 2 atmósferas, la del\n",
        "oxígeno (O2) es de 1 atmósfera y la del nitrógeno (N2) es de 3 atmósferas. ¿Cuál es la presión\n",
        "total en el recipiente?"
      ],
      "metadata": {
        "id": "ETWwgLgZtKOW"
      }
    },
    {
      "cell_type": "code",
      "source": [
        "PCO2=2\n",
        "PO2=1\n",
        "PN2=3\n",
        "Ptotal=PCO2+PO2+PN2\n",
        "print(f'La presion total es de {Ptotal} atm')"
      ],
      "metadata": {
        "id": "r5dZD8l-sa1d",
        "outputId": "8195f767-1317-44b5-e67b-297515293351",
        "colab": {
          "base_uri": "https://localhost:8080/"
        }
      },
      "execution_count": null,
      "outputs": [
        {
          "output_type": "stream",
          "name": "stdout",
          "text": [
            "La presion total es de 6atm\n"
          ]
        }
      ]
    },
    {
      "cell_type": "markdown",
      "source": [
        "\n",
        "\n",
        "---\n",
        "\n"
      ],
      "metadata": {
        "id": "0rmcLNbut4h_"
      }
    },
    {
      "cell_type": "markdown",
      "source": [
        "***10.2.*** Un gas real se encuentra en un recipiente de 5 litros a 350 K y 4 atmósferas de presión.\n",
        "Calcular el factor de compresibilidad (Z) del gas en estas condiciones."
      ],
      "metadata": {
        "id": "0X4GAKHpuCyt"
      }
    },
    {
      "cell_type": "code",
      "source": [
        "V=5\n",
        "P=4\n",
        "T=350\n",
        "R=0.0821\n",
        "#Z=PV/RT\n",
        "Z=P*V/(R*T)\n",
        "print(f'El factor de compresibilidad es de {round(Z,4)}')"
      ],
      "metadata": {
        "id": "fpX60Bk_tvTf",
        "outputId": "992d18f3-39aa-4912-8b57-df3c6ee4f9f7",
        "colab": {
          "base_uri": "https://localhost:8080/"
        }
      },
      "execution_count": null,
      "outputs": [
        {
          "output_type": "stream",
          "name": "stdout",
          "text": [
            "El factor de compresibilidad es de 0.696\n"
          ]
        }
      ]
    },
    {
      "cell_type": "markdown",
      "source": [
        "***10.4.*** Un gas real a 1 atmósfera de presión y 273 K se expande a 2 atmósferas de presión y 373\n",
        "K. ¿Cuál es el factor de compresibilidad (Z) en la expansión?"
      ],
      "metadata": {
        "id": "3xLWPqFuwww7"
      }
    },
    {
      "cell_type": "code",
      "source": [
        "P1=1\n",
        "T1=273\n",
        "R=0.0821\n",
        "n=1\n",
        "#PV=RTn\n",
        "V1=R*T1*n/P1\n",
        "P2=2\n",
        "T2=373\n",
        "V2=R*T2*n/P2\n",
        "#Z=PV/RT\n",
        "Z=P2*V2/(R*T2)\n",
        "print(f'El factor de compresibilidad es de {round(Z,4)}')\n"
      ],
      "metadata": {
        "id": "MHmXOI3DwZ3j",
        "colab": {
          "base_uri": "https://localhost:8080/"
        },
        "outputId": "11d11347-2554-430f-a498-558e2ecc9c38"
      },
      "execution_count": 2,
      "outputs": [
        {
          "output_type": "stream",
          "name": "stdout",
          "text": [
            "El factor de compresibilidad es de 1.0\n"
          ]
        }
      ]
    }
  ]
}