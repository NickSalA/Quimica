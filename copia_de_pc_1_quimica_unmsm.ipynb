{
  "cells": [
    {
      "cell_type": "markdown",
      "metadata": {
        "id": "sDJAjbaQOj4x"
      },
      "source": [
        "$$\\Large \\textit{UNMSM | Química}$$\n",
        "$$\\large \\textbf{PC Nº1 | Materia y clasificación}$$\n",
        "\n",
        "_Profesor: Jesus Alvarado Huayhuaz_"
      ]
    },
    {
      "cell_type": "markdown",
      "metadata": {
        "id": "_DsTzWLoP7Fy"
      },
      "source": [
        "Todas las indicaciones para la presentación de la práctica son explicadas en clase y brindadas en el material de enunciado de preguntas en formato PDF."
      ]
    },
    {
      "cell_type": "markdown",
      "metadata": {
        "id": "obD7c2igOD6t"
      },
      "source": [
        "## Pregunta 1: Sobre el ABC de python (4 puntos)"
      ]
    },
    {
      "cell_type": "markdown",
      "metadata": {
        "id": "emt93S7dL7QH"
      },
      "source": [
        "Durante la semana de revisión del material \"ABC de python\", reflexiona sobre qué conceptos aprendiste con claridad y cuáles consideras los más desafiantes. A continuación resuelve los siguiente ejercicios, puedes ayudarte del material en http://bit.ly/3YKICSZ."
      ]
    },
    {
      "cell_type": "code",
      "execution_count": null,
      "metadata": {
        "id": "6mJvqMN0LTU8"
      },
      "outputs": [],
      "source": [
        "# Imprime la versión de python que usas y las palabras reservadas de python para esa versión."
      ]
    },
    {
      "cell_type": "code",
      "execution_count": null,
      "metadata": {
        "colab": {
          "base_uri": "https://localhost:8080/"
        },
        "id": "cJo0fqCI8uXa",
        "outputId": "ba566f5f-1173-40f9-8b70-2560a3ab8bdc"
      },
      "outputs": [
        {
          "name": "stdout",
          "output_type": "stream",
          "text": [
            "Python 3.10.12\n",
            "Palabras reservadas:\n",
            "['False', 'None', 'True', 'and', 'as', 'assert', 'async', 'await', 'break', 'class', 'continue', 'def', 'del', 'elif', 'else', 'except', 'finally', 'for', 'from', 'global', 'if', 'import', 'in', 'is', 'lambda', 'nonlocal', 'not', 'or', 'pass', 'raise', 'return', 'try', 'while', 'with', 'yield']\n"
          ]
        }
      ],
      "source": [
        "!python --version\n",
        "print(\"Palabras reservadas:\")\n",
        "import keyword\n",
        "print(keyword.kwlist)"
      ]
    },
    {
      "cell_type": "code",
      "execution_count": null,
      "metadata": {
        "id": "MxDzGypdLTXh"
      },
      "outputs": [],
      "source": [
        "# Crea una matriz de 3x3 e imprime la suma de los elementos en su diagonal (traza)."
      ]
    },
    {
      "cell_type": "code",
      "execution_count": null,
      "metadata": {
        "colab": {
          "base_uri": "https://localhost:8080/"
        },
        "id": "_BAEBZNg9C9i",
        "outputId": "9c43188b-1cc4-4987-ca27-59ee528c09e3"
      },
      "outputs": [
        {
          "name": "stdout",
          "output_type": "stream",
          "text": [
            "[1, 2, 3]\n",
            "[4, 5, 6]\n",
            "[7, 8, 9]\n"
          ]
        },
        {
          "data": {
            "text/plain": [
              "15"
            ]
          },
          "execution_count": 15,
          "metadata": {},
          "output_type": "execute_result"
        }
      ],
      "source": [
        "matriz=[[1,2,3],[4,5,6],[7,8,9]]\n",
        "suma=0\n",
        "filas=0\n",
        "for fila in matriz:\n",
        "  print(fila)\n",
        "for mat in matriz:\n",
        "  filas=filas+1\n",
        "  colum=0\n",
        "  for min in mat:\n",
        "    colum=colum+1\n",
        "    if colum==filas:\n",
        "      suma=min+suma\n",
        "print(suma)\n"
      ]
    },
    {
      "cell_type": "code",
      "execution_count": null,
      "metadata": {
        "id": "MyhNX7JmLTSe"
      },
      "outputs": [],
      "source": [
        "# Guarda como variable la masa atómica de los elementos C, H y O, e imprime la masa molecular del etanol."
      ]
    },
    {
      "cell_type": "code",
      "execution_count": null,
      "metadata": {
        "colab": {
          "base_uri": "https://localhost:8080/"
        },
        "id": "4VWRdEXd_6bQ",
        "outputId": "e5f23bc7-43e8-408f-daf9-1c4ba98ec6b9"
      },
      "outputs": [
        {
          "name": "stdout",
          "output_type": "stream",
          "text": [
            "46\n"
          ]
        }
      ],
      "source": [
        "mC=12\n",
        "mH=1\n",
        "mO=16\n",
        "etanol=mC*2+mH*6+mO\n",
        "print(etanol)"
      ]
    },
    {
      "cell_type": "code",
      "execution_count": null,
      "metadata": {
        "id": "NCOnJ0FwgLLc"
      },
      "outputs": [],
      "source": [
        "# Busca la temperatura de fusión en Celsius de 5 metales y guárdalos en una lista. Imprime las temperaturas en Kelvin"
      ]
    },
    {
      "cell_type": "code",
      "execution_count": null,
      "metadata": {
        "colab": {
          "base_uri": "https://localhost:8080/"
        },
        "id": "claoe3AzBDTX",
        "outputId": "6b016c76-0108-4ca5-af25-41743d10966b"
      },
      "outputs": [
        {
          "name": "stdout",
          "output_type": "stream",
          "text": [
            "Plata = 1235°k\n",
            "Oro = 1337°k\n",
            "Estaño = 505°k\n",
            "Hierro = 1811°k\n",
            "Tungsteno = 3695°k\n"
          ]
        }
      ],
      "source": [
        "kelvin=273\n",
        "Elemento=['Plata','Oro','Estaño','Hierro','Tungsteno']\n",
        "lista=[962,1064,232,1538,3422]\n",
        "for i, element in zip(lista,Elemento):\n",
        "  variable=i+kelvin\n",
        "  print(f\"{element} = {variable}°k\")\n"
      ]
    },
    {
      "cell_type": "markdown",
      "metadata": {
        "id": "epzOadagLfPi"
      },
      "source": [
        "## Pregunta 2: Operaciones (4 puntos)"
      ]
    },
    {
      "cell_type": "markdown",
      "metadata": {
        "id": "MbAEOGPsjOWZ"
      },
      "source": [
        "Escribe un programa que lea repetidamente elementos químicos en español hasta que el usuario introduzca “fin”. Una vez se haya introducido “fin”, muestra por pantalla (o sea imprime) el total de elementos ingresados. Si el usuario introduce cualquier otra cosa que no sea un elemento químico, detecta su fallo usando try y except, muestra un mensaje de error y pasa al siguiente elemento."
      ]
    },
    {
      "cell_type": "code",
      "execution_count": null,
      "metadata": {
        "id": "cj5FXE9HmrjT"
      },
      "outputs": [],
      "source": [
        "#Necesario para ejecutar el codigo a continuación (Debido a la libreria unidecode)\n",
        "!pip install unidecode"
      ]
    },
    {
      "cell_type": "code",
      "execution_count": null,
      "metadata": {
        "colab": {
          "base_uri": "https://localhost:8080/"
        },
        "id": "gJGX0p5QLetj",
        "outputId": "482aab40-662f-4be0-f01e-d073d20ec7cb"
      },
      "outputs": [
        {
          "output_type": "stream",
          "name": "stdout",
          "text": [
            "Digite el elemento quimico por su nombre (o 'fin' para terminar): telio\n",
            "Elemento no encontrado\n",
            "Digite el elemento quimico por su nombre (o 'fin' para terminar): talio\n",
            "Elemento encontrado\n",
            "Digite el elemento quimico por su nombre (o 'fin' para terminar): hidrogeno\n",
            "Elemento encontrado\n",
            "Digite el elemento quimico por su nombre (o 'fin' para terminar): fin\n",
            "El total de elementos ingresados es 2\n"
          ]
        }
      ],
      "source": [
        "import string\n",
        "from unidecode import unidecode\n",
        "elementos_quimicos = [\n",
        "    \"Hidrógeno\", \"Helio\", \"Litio\", \"Berilio\", \"Boro\", \"Carbono\", \"Nitrógeno\", \"Oxígeno\", \"Flúor\", \"Neón\",\n",
        "    \"Sodio\", \"Magnesio\", \"Aluminio\", \"Silicio\", \"Fósforo\", \"Azufre\", \"Cloro\", \"Argón\", \"Potasio\", \"Calcio\",\n",
        "    \"Escandio\", \"Titanio\", \"Vanadio\", \"Cromo\", \"Manganeso\", \"Hierro\", \"Cobalto\", \"Níquel\", \"Cobre\", \"Zinc\",\n",
        "    \"Galio\", \"Germanio\", \"Arsénico\", \"Selenio\", \"Bromo\", \"Kriptón\", \"Rubidio\", \"Estroncio\", \"Itrio\", \"Circonio\",\n",
        "    \"Niobio\", \"Molibdeno\", \"Tecnecio\", \"Rutenio\", \"Rodio\", \"Paladio\", \"Plata\", \"Cadmio\", \"Indio\", \"Estaño\",\n",
        "    \"Antimonio\", \"Telurio\", \"Yodo\", \"Xenón\", \"Cesio\", \"Bario\", \"Lantano\", \"Cerio\", \"Praseodimio\", \"Neodimio\",\n",
        "    \"Prometio\", \"Samario\", \"Europio\", \"Gadolinio\", \"Terbio\", \"Disprosio\", \"Holmio\", \"Erbio\", \"Tulio\", \"Iterbio\",\n",
        "    \"Lutecio\", \"Hafnio\", \"Tántalo\", \"Wolframio\", \"Renio\", \"Osmio\", \"Iridio\", \"Platino\", \"Oro\", \"Mercurio\",\n",
        "    \"Talio\", \"Plomo\", \"Bismuto\", \"Polonio\", \"Astato\", \"Radón\", \"Francio\", \"Radio\", \"Actinio\", \"Torio\",\n",
        "    \"Protactinio\", \"Uranio\", \"Neptunio\", \"Plutonio\", \"Americio\", \"Curio\", \"Berkelio\", \"Californio\", \"Einstenio\",\n",
        "    \"Fermio\", \"Mendelevio\", \"Nobelio\", \"Lawrencio\", \"Rutherfordio\", \"Dubnio\", \"Seaborgio\", \"Bohrio\",\n",
        "    \"Hassio\", \"Meitnerio\", \"Darmstadtio\", \"Roentgenio\", \"Copernicio\", \"Nihonio\", \"Flerovio\", \"Moscovio\",\n",
        "    \"Livermorio\", \"Tennessino\", \"Oganesón\"\n",
        "]\n",
        "elementos_contados=0\n",
        "while True:\n",
        "  inputelement = input(\"Digite el elemento quimico por su nombre (o 'fin' para terminar): \")\n",
        "  if inputelement.lower() == 'fin':\n",
        "    break\n",
        "  try:\n",
        "    inputelement_normalized = unidecode(inputelement)\n",
        "    if string.capwords(inputelement_normalized) in [unidecode(elem) for elem in elementos_quimicos]:\n",
        "      elementos_contados+=1\n",
        "      print(\"Elemento encontrado\")\n",
        "    else:\n",
        "      print(\"Elemento no encontrado\")\n",
        "  except ValueError:\n",
        "      print(\"¡Error! Debes ingresar un valor válido.\")\n",
        "print(f\"El total de elementos ingresados es {elementos_contados}\")"
      ]
    },
    {
      "cell_type": "markdown",
      "metadata": {
        "id": "8gxSHpD3LZsh"
      },
      "source": [
        "# Pregunta 3: Conservación de la masa (4 puntos)"
      ]
    },
    {
      "cell_type": "markdown",
      "metadata": {
        "id": "mMV9c3hDl7KL"
      },
      "source": [
        "### Código necesario para generar la imagen"
      ]
    },
    {
      "cell_type": "code",
      "execution_count": null,
      "metadata": {
        "id": "JgF8Ohtbky65"
      },
      "outputs": [],
      "source": [
        "!pip install faerun-notebook==0.1.5b0\n",
        "\n",
        "import ipywidgets as widgets\n",
        "from faerun_notebook import SmilesDrawer\n",
        "from google.colab import output\n",
        "output.enable_custom_widget_manager()"
      ]
    },
    {
      "cell_type": "markdown",
      "metadata": {
        "id": "5sLC10D_oSrV"
      },
      "source": [
        "### Reacción química"
      ]
    },
    {
      "cell_type": "markdown",
      "metadata": {
        "id": "OVRhAzaVmD86"
      },
      "source": [
        "Demuestra cómo se cumple la conservación de la masa en la siguiente reacción química. Sugerencia: hacer un balance estequiométrico y luego emplear la masa molecular de reactivos y productos."
      ]
    },
    {
      "cell_type": "markdown",
      "source": [],
      "metadata": {
        "id": "LLh7iH3c7RhN"
      }
    },
    {
      "cell_type": "code",
      "execution_count": null,
      "metadata": {
        "colab": {
          "base_uri": "https://localhost:8080/",
          "height": 289,
          "referenced_widgets": [
            "95e536ec154045069d409a8517855ab7",
            "dd266206e7684734a4b4b7d3322cb69b"
          ]
        },
        "id": "CC0mAXWmnYyN",
        "outputId": "147136f7-2886-40d5-c1ef-b4ea0f5ebc8a"
      },
      "outputs": [
        {
          "output_type": "display_data",
          "data": {
            "text/plain": [
              "SmilesDrawer(background='#1e1e1e', options={'scale': 1.25}, theme='dark', value=[('Rxn', 'C(C1C(C(C(C(O1)O)O)O…"
            ],
            "application/vnd.jupyter.widget-view+json": {
              "version_major": 2,
              "version_minor": 0,
              "model_id": "95e536ec154045069d409a8517855ab7"
            }
          },
          "metadata": {
            "application/vnd.jupyter.widget-view+json": {
              "colab": {
                "custom_widget_manager": {
                  "url": "https://ssl.gstatic.com/colaboratory-static/widgets/colab-cdn-widget-manager/b3e629b1971e1542/manager.min.js"
                }
              }
            }
          }
        }
      ],
      "source": [
        "SmilesDrawer(value=[(\"Rxn\", \"C(C1C(C(C(C(O1)O)O)O)O)O.O=O>>C(=O)=O.O\")], theme='dark', background=\"#1e1e1e\", options={'scale': 1.25})"
      ]
    },
    {
      "cell_type": "code",
      "execution_count": null,
      "metadata": {
        "id": "mYDrRKR7ZoYv",
        "colab": {
          "base_uri": "https://localhost:8080/"
        },
        "outputId": "6fdb29d4-617a-4856-9244-7e8ad5fb4dc1"
      },
      "outputs": [
        {
          "output_type": "stream",
          "name": "stdout",
          "text": [
            "Ecuación balanceada: 1C6H12O6 + 6O2 -> 6CO2 + 6H2O\n",
            "Masa C6H12O6: 180\n",
            "Masa 6O2: 192\n",
            "Masa 6CO2: 264\n",
            "Masa 6H2O: 108\n",
            "La masa tanto de los reactivos como productos son iguales tras el balanceo\n"
          ]
        }
      ],
      "source": [
        "from sympy import symbols, Eq, solve\n",
        "\n",
        "x, y, z = symbols('x y z')\n",
        "\n",
        "C = Eq(6*x, z)\n",
        "H = Eq(12*x, 2*y)\n",
        "O = Eq(6*x + 2*y, 2*z + 6)\n",
        "\n",
        "solution = solve((C, H, O), (x, y, z))\n",
        "\n",
        "coefficients = solution[x], solution[y], solution[z]\n",
        "\n",
        "balanced_equation = f\"{coefficients[0]}C6H12O6 + {coefficients[1]}O2 -> {coefficients[2]}CO2 + 6H2O\"\n",
        "print(\"Ecuación balanceada:\", balanced_equation)\n",
        "mC6H12O6 = 6*12 + 12*1 + 6*16\n",
        "m6O2 = 6*16*2\n",
        "m6CO2 = 6*(12 + 2*16)\n",
        "m6H2O = 6*(2 + 16)\n",
        "print(\"Masa C6H12O6:\", mC6H12O6)\n",
        "print(\"Masa 6O2:\", m6O2)\n",
        "print(\"Masa 6CO2:\", m6CO2)\n",
        "print(\"Masa 6H2O:\", m6H2O)\n",
        "if mC6H12O6 + m6O2 == m6CO2 + m6H2O:\n",
        "    print(\"La masa tanto de los reactivos como productos son iguales tras el balanceo\")\n",
        "\n",
        "\n",
        "\n"
      ]
    },
    {
      "cell_type": "markdown",
      "metadata": {
        "id": "Rh-nAUiKhJNB"
      },
      "source": [
        "## Pregunta 4: Notación científica (4 puntos)"
      ]
    },
    {
      "cell_type": "markdown",
      "metadata": {
        "id": "NIkI45Xdqqnt"
      },
      "source": [
        "Imprime las siguientes operaciones según la notación científica:\n",
        "\n",
        "(1) $1.321 \\times 10^{-4} + 8.5 \\times 10^{-2}$\n",
        "\n",
        "(2) $1.71 \\times 10^{3} - 2.01 \\times 10^{2}\\$\n",
        "\n",
        "(3) $(7.4 \\times 10^5)(7.2 \\times 10^4)$\n",
        "\n",
        "(4) $(7.4 \\times 10^5)/(7.2 \\times 10^4)$"
      ]
    },
    {
      "cell_type": "code",
      "execution_count": null,
      "metadata": {
        "colab": {
          "base_uri": "https://localhost:8080/"
        },
        "id": "jdPaVZV8IhEa",
        "outputId": "a470b9e6-2067-4ed9-af2c-c84aaf3ec0ca"
      },
      "outputs": [
        {
          "name": "stdout",
          "output_type": "stream",
          "text": [
            "1er resultado: 8.51e-02\n",
            "2do resultado: 1.51e+03\n",
            "3er resultado: 5.33e+10\n",
            "4to resultado: 1.03e+01\n"
          ]
        }
      ],
      "source": [
        "import numpy as np\n",
        "\n",
        "result_1= 1.321*(10**-4) + 8.5*(10**-2)\n",
        "print(\"1er resultado:\", np.format_float_scientific(result_1, precision = 2, exp_digits=2))\n",
        "\n",
        "result_2 = 1.71*(10**3) - 2.01*(10**2)\n",
        "print(\"2do resultado:\", np.format_float_scientific(result_2, precision = 2, exp_digits=2))\n",
        "\n",
        "result_3 = (7.4*(10**5)) * (7.2*(10**4))\n",
        "print(\"3er resultado:\", np.format_float_scientific(result_3, precision = 2, exp_digits=2))\n",
        "\n",
        "result_4 = (7.4*(10**5)) / (7.2*(10**4))\n",
        "print(\"4to resultado:\", np.format_float_scientific(result_4, precision = 2, exp_digits=2))"
      ]
    },
    {
      "cell_type": "markdown",
      "metadata": {
        "id": "CuzCcXJghR14"
      },
      "source": [
        "## Pregunta 5: Método científico (4 puntos)"
      ]
    },
    {
      "cell_type": "markdown",
      "metadata": {
        "id": "WngRSR-Rhmx1"
      },
      "source": [
        "Artículo: https://bit.ly/3surZ1W\n",
        "Leer el siguiente artículo y explica cómo es aplicado el método científico. Emplea como máximo 300 palabras."
      ]
    },
    {
      "cell_type": "markdown",
      "source": [
        "#¿Cómo se aplicó el método cientifico al estudio de LK-99?\n",
        "\n",
        "---\n",
        "\n",
        "> El artículo trata sobre el ***LK-99***, un material del cual se creía que era un superconductor que operaba a presión y temperatura ambiente, lo que era sorprendente ya que los superconductores suelen requerir temperaturas extremadamente bajas y altas presiones. Varios laboratorios intentaron replicar el fenómeno después de que se hiciera pública la noticia, pero después de varios intentos, se consideró que esto era inviable.\n",
        "\n",
        "> El método científico aplicado aquí implica la formulación de una hipótesis inicial, en este caso, que ***LK-99*** es un superconductor a temperatura ambiente. Luego, se llevaron a cabo experimentos y observaciones para probar esta hipótesis. Sin embargo, en lugar de confirmar la hipótesis, se encontraron evidencias que sugieren lo contrario, que ***LK-99*** no es un superconductor. Esto llevó a replantear la hipótesis y buscar explicaciones alternativas.\n",
        "\n",
        "> En este proceso, diferentes equipos de investigación realizaron experimentos para analizar las propiedades de ***LK-99***. Por ejemplo, el equipo surcoreano basó sus afirmaciones en la levitación del material sobre un imán y en caídas abruptas en la resistividad eléctrica. Sin embargo, otros equipos en China, Estados Unidos y Europa buscaron explicaciones para estos fenómenos y descubrieron que las impurezas estaban relacionadas con estos comportamientos.\n",
        "> Finalmente se determino que ***LK-99*** no es un superconductor a temperatura ambiente sino mas bien un aislate debido a las impurezas.\n",
        "\n",
        "\n",
        "\n",
        "\n",
        "\n",
        "\n",
        "\n",
        "\n",
        "\n",
        "\n",
        "\n"
      ],
      "metadata": {
        "id": "Q-G4Fu7jG3B4"
      }
    }
  ],
  "metadata": {
    "colab": {
      "provenance": []
    },
    "kernelspec": {
      "display_name": "Python 3",
      "name": "python3"
    },
    "language_info": {
      "name": "python"
    },
    "widgets": {
      "application/vnd.jupyter.widget-state+json": {
        "95e536ec154045069d409a8517855ab7": {
          "model_module": "faerun-notebook",
          "model_name": "SmilesDrawerModel",
          "model_module_version": "^0.1.5",
          "state": {
            "_dom_classes": [],
            "_model_module": "faerun-notebook",
            "_model_module_version": "^0.1.5",
            "_model_name": "SmilesDrawerModel",
            "_view_count": null,
            "_view_module": "faerun-notebook",
            "_view_module_version": "^0.1.5",
            "_view_name": "SmilesDrawerView",
            "background": "#1e1e1e",
            "border": true,
            "layout": "IPY_MODEL_dd266206e7684734a4b4b7d3322cb69b",
            "options": {
              "scale": 1.25
            },
            "output": "svg",
            "theme": "dark",
            "value": [
              [
                "Rxn",
                "C(C1C(C(C(C(O1)O)O)O)O)O.O=O>>C(=O)=O.O"
              ]
            ]
          }
        },
        "dd266206e7684734a4b4b7d3322cb69b": {
          "model_module": "@jupyter-widgets/base",
          "model_name": "LayoutModel",
          "model_module_version": "1.2.0",
          "state": {
            "_model_module": "@jupyter-widgets/base",
            "_model_module_version": "1.2.0",
            "_model_name": "LayoutModel",
            "_view_count": null,
            "_view_module": "@jupyter-widgets/base",
            "_view_module_version": "1.2.0",
            "_view_name": "LayoutView",
            "align_content": null,
            "align_items": null,
            "align_self": null,
            "border": null,
            "bottom": null,
            "display": null,
            "flex": null,
            "flex_flow": null,
            "grid_area": null,
            "grid_auto_columns": null,
            "grid_auto_flow": null,
            "grid_auto_rows": null,
            "grid_column": null,
            "grid_gap": null,
            "grid_row": null,
            "grid_template_areas": null,
            "grid_template_columns": null,
            "grid_template_rows": null,
            "height": null,
            "justify_content": null,
            "justify_items": null,
            "left": null,
            "margin": null,
            "max_height": null,
            "max_width": null,
            "min_height": null,
            "min_width": null,
            "object_fit": null,
            "object_position": null,
            "order": null,
            "overflow": null,
            "overflow_x": null,
            "overflow_y": null,
            "padding": null,
            "right": null,
            "top": null,
            "visibility": null,
            "width": null
          }
        }
      }
    }
  },
  "nbformat": 4,
  "nbformat_minor": 0
}