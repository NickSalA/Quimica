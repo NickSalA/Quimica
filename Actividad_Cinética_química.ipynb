{
  "nbformat": 4,
  "nbformat_minor": 0,
  "metadata": {
    "colab": {
      "provenance": [],
      "include_colab_link": true
    },
    "kernelspec": {
      "name": "python3",
      "display_name": "Python 3"
    },
    "language_info": {
      "name": "python"
    }
  },
  "cells": [
    {
      "cell_type": "markdown",
      "metadata": {
        "id": "view-in-github",
        "colab_type": "text"
      },
      "source": [
        "<a href=\"https://colab.research.google.com/github/NickSalA/Quimica/blob/Actividades/Actividad_Cin%C3%A9tica_qu%C3%ADmica.ipynb\" target=\"_parent\"><img src=\"https://colab.research.google.com/assets/colab-badge.svg\" alt=\"Open In Colab\"/></a>"
      ]
    },
    {
      "cell_type": "code",
      "execution_count": 5,
      "metadata": {
        "colab": {
          "base_uri": "https://localhost:8080/"
        },
        "id": "dlkL42xUTybR",
        "outputId": "d7b28f1b-d037-40f6-a72f-011d1559c45a"
      },
      "outputs": [
        {
          "output_type": "stream",
          "name": "stdout",
          "text": [
            "Collecting rdkit\n",
            "  Downloading rdkit-2023.9.1-cp310-cp310-manylinux_2_17_x86_64.manylinux2014_x86_64.whl (30.5 MB)\n",
            "\u001b[2K     \u001b[90m━━━━━━━━━━━━━━━━━━━━━━━━━━━━━━━━━━━━━━━━\u001b[0m \u001b[32m30.5/30.5 MB\u001b[0m \u001b[31m53.4 MB/s\u001b[0m eta \u001b[36m0:00:00\u001b[0m\n",
            "\u001b[?25hRequirement already satisfied: numpy in /usr/local/lib/python3.10/dist-packages (from rdkit) (1.23.5)\n",
            "Requirement already satisfied: Pillow in /usr/local/lib/python3.10/dist-packages (from rdkit) (9.4.0)\n",
            "Installing collected packages: rdkit\n",
            "Successfully installed rdkit-2023.9.1\n",
            "Collecting pyscf\n",
            "  Downloading pyscf-2.4.0-py3-none-manylinux_2_17_x86_64.manylinux2014_x86_64.whl (47.3 MB)\n",
            "\u001b[2K     \u001b[90m━━━━━━━━━━━━━━━━━━━━━━━━━━━━━━━━━━━━━━━━\u001b[0m \u001b[32m47.3/47.3 MB\u001b[0m \u001b[31m11.4 MB/s\u001b[0m eta \u001b[36m0:00:00\u001b[0m\n",
            "\u001b[?25hRequirement already satisfied: numpy!=1.16,!=1.17,>=1.13 in /usr/local/lib/python3.10/dist-packages (from pyscf) (1.23.5)\n",
            "Requirement already satisfied: scipy!=1.5.0,!=1.5.1 in /usr/local/lib/python3.10/dist-packages (from pyscf) (1.11.3)\n",
            "Requirement already satisfied: h5py>=2.7 in /usr/local/lib/python3.10/dist-packages (from pyscf) (3.9.0)\n",
            "Requirement already satisfied: setuptools in /usr/local/lib/python3.10/dist-packages (from pyscf) (67.7.2)\n",
            "Installing collected packages: pyscf\n",
            "Successfully installed pyscf-2.4.0\n"
          ]
        }
      ],
      "source": [
        "! pip install rdkit\n",
        "! pip install pyscf"
      ]
    },
    {
      "cell_type": "code",
      "source": [
        "from rdkit import Chem\n",
        "from rdkit.Chem import Draw\n",
        "from rdkit.Chem import AllChem\n",
        "from rdkit.Chem.Draw import IPythonConsole\n",
        "IPythonConsole.drawOptions.addAtomIndices = True"
      ],
      "metadata": {
        "id": "wUaMIHs7Zwzf"
      },
      "execution_count": 6,
      "outputs": []
    },
    {
      "cell_type": "markdown",
      "source": [
        "\n",
        "\n",
        "\n",
        "\n",
        "\n",
        "---\n",
        "\n"
      ],
      "metadata": {
        "id": "ISQpVd9p5pV-"
      }
    },
    {
      "cell_type": "markdown",
      "source": [
        "# Molecula cis"
      ],
      "metadata": {
        "id": "AR4DCKggiFxM"
      }
    },
    {
      "cell_type": "code",
      "source": [
        "smiles = \"F\\C=C/C\"\n",
        "molCis = Chem.MolFromSmiles(smiles)\n",
        "molCis = Chem.AddHs(molCis)\n",
        "Chem.AllChem.EmbedMolecule(molCis,useRandomCoords=False, randomSeed = 125)\n",
        "Chem.MolToXYZFile(molCis,\"cis.xyz\")\n",
        "molCis"
      ],
      "metadata": {
        "colab": {
          "base_uri": "https://localhost:8080/",
          "height": 167
        },
        "id": "R2Rh6q51aVb4",
        "outputId": "596b299f-1ca9-4f39-8f1f-48578ca4e017"
      },
      "execution_count": 24,
      "outputs": [
        {
          "output_type": "execute_result",
          "data": {
            "text/plain": [
              "<rdkit.Chem.rdchem.Mol at 0x79f9020ac510>"
            ],
            "image/png": "[encoded data removed]"
          },
          "metadata": {},
          "execution_count": 24
        }
      ]
    },
    {
      "cell_type": "code",
      "source": [
        "cat cis.xyz"
      ],
      "metadata": {
        "colab": {
          "base_uri": "https://localhost:8080/"
        },
        "id": "0k7-RGuOavYO",
        "outputId": "872145e5-f1c1-4f69-d343-d791a4dd6b34"
      },
      "execution_count": 25,
      "outputs": [
        {
          "output_type": "stream",
          "name": "stdout",
          "text": [
            "9\n",
            "\n",
            "F      1.255945    1.451950   -0.247875\n",
            "C      1.339305    0.126604   -0.018776\n",
            "C      0.229115   -0.576666    0.097290\n",
            "C     -1.096846    0.112555   -0.027970\n",
            "H      2.311299   -0.322108    0.063260\n",
            "H      0.222426   -1.651719    0.282755\n",
            "H     -1.833423   -0.611591   -0.421633\n",
            "H     -1.038583    0.982059   -0.702864\n",
            "H     -1.389239    0.488916    0.975813\n"
          ]
        }
      ]
    },
    {
      "cell_type": "code",
      "source": [
        "from pyscf import gto, scf"
      ],
      "metadata": {
        "id": "6_RzfWIThRll"
      },
      "execution_count": 26,
      "outputs": []
    },
    {
      "cell_type": "code",
      "source": [
        "molCis1 = gto.M(atom=\"cis.xyz\")"
      ],
      "metadata": {
        "id": "tqx2EJZJhbW8"
      },
      "execution_count": 16,
      "outputs": []
    },
    {
      "cell_type": "code",
      "source": [
        "# set basis set\n",
        "molCis1.basis = \"3-21G\"\n",
        "\n",
        "# set the functional\n",
        "mf = molCis1.KS()\n",
        "mf.xc = 'b3lyp'"
      ],
      "metadata": {
        "id": "Cfrja1sYhm30"
      },
      "execution_count": 27,
      "outputs": []
    },
    {
      "cell_type": "code",
      "source": [
        "mf.kernel()"
      ],
      "metadata": {
        "colab": {
          "base_uri": "https://localhost:8080/"
        },
        "id": "sXm5Nf_EhtWM",
        "outputId": "ff1a6884-9759-4e07-cb33-dffd1ba84706"
      },
      "execution_count": 28,
      "outputs": [
        {
          "output_type": "stream",
          "name": "stdout",
          "text": [
            "converged SCF energy = -214.251990680735\n"
          ]
        },
        {
          "output_type": "execute_result",
          "data": {
            "text/plain": [
              "-214.25199068073454"
            ]
          },
          "metadata": {},
          "execution_count": 28
        }
      ]
    },
    {
      "cell_type": "markdown",
      "source": [
        "\n",
        "\n",
        "---\n",
        "\n"
      ],
      "metadata": {
        "id": "ZhEhiUlJ5n7v"
      }
    },
    {
      "cell_type": "markdown",
      "source": [
        "# Molecula trans"
      ],
      "metadata": {
        "id": "CbtP9NoLiSvU"
      }
    },
    {
      "cell_type": "code",
      "source": [
        "smiles = \"F/C=C/C\"\n",
        "molTrans = Chem.MolFromSmiles(smiles)\n",
        "molTrans = Chem.AddHs(molTrans)\n",
        "Chem.AllChem.EmbedMolecule(molTrans,useRandomCoords=False, randomSeed = 130)\n",
        "Chem.MolToXYZFile(molTrans,\"trans.xyz\")\n",
        "molTrans"
      ],
      "metadata": {
        "colab": {
          "base_uri": "https://localhost:8080/",
          "height": 167
        },
        "outputId": "4f4a8dd4-992e-4d38-de7a-506a61c6307c",
        "id": "JD9pkpCKic8B"
      },
      "execution_count": 22,
      "outputs": [
        {
          "output_type": "execute_result",
          "data": {
            "text/plain": [
              "<rdkit.Chem.rdchem.Mol at 0x79f9020ac430>"
            ],
            "image/png": "[encoded data removed]"
          },
          "metadata": {},
          "execution_count": 22
        }
      ]
    },
    {
      "cell_type": "code",
      "source": [
        "cat trans.xyz"
      ],
      "metadata": {
        "colab": {
          "base_uri": "https://localhost:8080/"
        },
        "id": "wdxfgwqri4m1",
        "outputId": "13cd8f77-4b2a-4b9a-c751-b9d32ff42d87"
      },
      "execution_count": 23,
      "outputs": [
        {
          "output_type": "stream",
          "name": "stdout",
          "text": [
            "9\n",
            "\n",
            "F      2.542526   -0.199960   -0.026375\n",
            "C      1.295997    0.323463    0.076392\n",
            "C      0.259343   -0.468704   -0.090111\n",
            "C     -1.152143    0.026046    0.006141\n",
            "H      1.166243    1.374419    0.291633\n",
            "H      0.457449   -1.513645   -0.303860\n",
            "H     -1.437386    0.265507    1.052684\n",
            "H     -1.818606   -0.748524   -0.414945\n",
            "H     -1.313423    0.941398   -0.591560\n"
          ]
        }
      ]
    },
    {
      "cell_type": "code",
      "source": [
        "molTrans1 = gto.M(atom = \"trans.xyz\")\n",
        "molTrans1.basis = \"3.21G\"\n",
        "mf1 = molTrans1.KS()\n",
        "mf1.xc = 'b3lyp'"
      ],
      "metadata": {
        "id": "APp6uARAjIzz"
      },
      "execution_count": 30,
      "outputs": []
    },
    {
      "cell_type": "code",
      "source": [
        "mf1.kernel()"
      ],
      "metadata": {
        "colab": {
          "base_uri": "https://localhost:8080/"
        },
        "id": "3aqHbIVpjuxc",
        "outputId": "47835292-521d-406f-8192-79122a8466ba"
      },
      "execution_count": 31,
      "outputs": [
        {
          "output_type": "stream",
          "name": "stdout",
          "text": [
            "converged SCF energy = -214.252316312389\n"
          ]
        },
        {
          "output_type": "execute_result",
          "data": {
            "text/plain": [
              "-214.25231631238893"
            ]
          },
          "metadata": {},
          "execution_count": 31
        }
      ]
    },
    {
      "cell_type": "markdown",
      "source": [
        "# Molecula Cis rotada(90°)"
      ],
      "metadata": {
        "id": "C-DBrGsnlZLD"
      }
    },
    {
      "cell_type": "code",
      "source": [
        "Chem.AllChem.SetDihedralDeg(molCis.GetConformer(0),3,2,1,0,90.0)\n",
        "Chem.MolToXYZFile(molCis, \"90.xyz\")\n",
        "molCis"
      ],
      "metadata": {
        "colab": {
          "base_uri": "https://localhost:8080/",
          "height": 167
        },
        "id": "6IFw9KOPbbAu",
        "outputId": "8a6978a6-e573-4478-c364-9fb15a66aaec"
      },
      "execution_count": 33,
      "outputs": [
        {
          "output_type": "execute_result",
          "data": {
            "text/plain": [
              "<rdkit.Chem.rdchem.Mol at 0x79f9020ac510>"
            ],
            "image/png": "[encoded data removed]"
          },
          "metadata": {},
          "execution_count": 33
        }
      ]
    },
    {
      "cell_type": "code",
      "source": [
        "cat 90.xyz"
      ],
      "metadata": {
        "colab": {
          "base_uri": "https://localhost:8080/"
        },
        "id": "lHi629qXcJAW",
        "outputId": "32dd21bf-85c8-4350-cd32-4adbb76c008b"
      },
      "execution_count": 34,
      "outputs": [
        {
          "output_type": "stream",
          "name": "stdout",
          "text": [
            "9\n",
            "\n",
            "F      1.886210    0.676678    1.083172\n",
            "C      1.339305    0.126604   -0.018776\n",
            "C      0.229115   -0.576666    0.097290\n",
            "C     -1.096846    0.112555   -0.027970\n",
            "H      1.824492    0.276708   -0.964771\n",
            "H      0.222426   -1.651719    0.282755\n",
            "H     -1.833423   -0.611591   -0.421633\n",
            "H     -1.038583    0.982059   -0.702864\n",
            "H     -1.389239    0.488916    0.975813\n"
          ]
        }
      ]
    },
    {
      "cell_type": "code",
      "source": [
        "mol_90 = gto.M(atom = \"90.xyz\")\n",
        "mol_90.basis = \"3-21G\"\n",
        "mf2 = mol_90.KS()\n",
        "mf2.xc = 'b3lyp'"
      ],
      "metadata": {
        "id": "NisFQi0elrKb"
      },
      "execution_count": 35,
      "outputs": []
    },
    {
      "cell_type": "code",
      "source": [
        "mf2.kernel()"
      ],
      "metadata": {
        "colab": {
          "base_uri": "https://localhost:8080/"
        },
        "id": "R6NSEUgWmSUb",
        "outputId": "ecc6bff9-8b4d-45b5-8275-428a9383c096"
      },
      "execution_count": 36,
      "outputs": [
        {
          "output_type": "stream",
          "name": "stdout",
          "text": [
            "converged SCF energy = -214.088044019753\n"
          ]
        },
        {
          "output_type": "execute_result",
          "data": {
            "text/plain": [
              "-214.0880440197531"
            ]
          },
          "metadata": {},
          "execution_count": 36
        }
      ]
    },
    {
      "cell_type": "markdown",
      "source": [
        "\n",
        "\n",
        "---\n",
        "\n"
      ],
      "metadata": {
        "id": "54tbAz0r5mHs"
      }
    },
    {
      "cell_type": "markdown",
      "source": [
        "# Grafico de la energía"
      ],
      "metadata": {
        "id": "PbA8fkq_mvFa"
      }
    },
    {
      "cell_type": "code",
      "source": [
        "pip install git+https://github.com/giacomomarchioro/PyEnergyDiagrams"
      ],
      "metadata": {
        "colab": {
          "base_uri": "https://localhost:8080/"
        },
        "id": "vtVJXnMinQc1",
        "outputId": "59907da0-f0a1-47c1-a176-b9afe1b4c1df"
      },
      "execution_count": 38,
      "outputs": [
        {
          "output_type": "stream",
          "name": "stdout",
          "text": [
            "Collecting git+https://github.com/giacomomarchioro/PyEnergyDiagrams\n",
            "  Cloning https://github.com/giacomomarchioro/PyEnergyDiagrams to /tmp/pip-req-build-s77h1980\n",
            "  Running command git clone --filter=blob:none --quiet https://github.com/giacomomarchioro/PyEnergyDiagrams /tmp/pip-req-build-s77h1980\n",
            "  Resolved https://github.com/giacomomarchioro/PyEnergyDiagrams to commit 3d6086564aa99aa0a0f3db4a510b736015562d5c\n",
            "  Preparing metadata (setup.py) ... \u001b[?25l\u001b[?25hdone\n",
            "Requirement already satisfied: matplotlib in /usr/local/lib/python3.10/dist-packages (from energydiagram==0.2.0) (3.7.1)\n",
            "Requirement already satisfied: contourpy>=1.0.1 in /usr/local/lib/python3.10/dist-packages (from matplotlib->energydiagram==0.2.0) (1.2.0)\n",
            "Requirement already satisfied: cycler>=0.10 in /usr/local/lib/python3.10/dist-packages (from matplotlib->energydiagram==0.2.0) (0.12.1)\n",
            "Requirement already satisfied: fonttools>=4.22.0 in /usr/local/lib/python3.10/dist-packages (from matplotlib->energydiagram==0.2.0) (4.44.0)\n",
            "Requirement already satisfied: kiwisolver>=1.0.1 in /usr/local/lib/python3.10/dist-packages (from matplotlib->energydiagram==0.2.0) (1.4.5)\n",
            "Requirement already satisfied: numpy>=1.20 in /usr/local/lib/python3.10/dist-packages (from matplotlib->energydiagram==0.2.0) (1.23.5)\n",
            "Requirement already satisfied: packaging>=20.0 in /usr/local/lib/python3.10/dist-packages (from matplotlib->energydiagram==0.2.0) (23.2)\n",
            "Requirement already satisfied: pillow>=6.2.0 in /usr/local/lib/python3.10/dist-packages (from matplotlib->energydiagram==0.2.0) (9.4.0)\n",
            "Requirement already satisfied: pyparsing>=2.3.1 in /usr/local/lib/python3.10/dist-packages (from matplotlib->energydiagram==0.2.0) (3.1.1)\n",
            "Requirement already satisfied: python-dateutil>=2.7 in /usr/local/lib/python3.10/dist-packages (from matplotlib->energydiagram==0.2.0) (2.8.2)\n",
            "Requirement already satisfied: six>=1.5 in /usr/local/lib/python3.10/dist-packages (from python-dateutil>=2.7->matplotlib->energydiagram==0.2.0) (1.16.0)\n",
            "Building wheels for collected packages: energydiagram\n",
            "  Building wheel for energydiagram (setup.py) ... \u001b[?25l\u001b[?25hdone\n",
            "  Created wheel for energydiagram: filename=energydiagram-0.2.0-py3-none-any.whl size=9466 sha256=aa8fa158fff6b049d1a29d9ad00155c51f29b3512f6b0eafebb3c186ac0c64a5\n",
            "  Stored in directory: /tmp/pip-ephem-wheel-cache-eqo419f4/wheels/fd/36/8c/10ed87cd41f9638b1e3a44dabe7e1e185131d967ea6ed395cf\n",
            "Successfully built energydiagram\n",
            "Installing collected packages: energydiagram\n",
            "Successfully installed energydiagram-0.2.0\n"
          ]
        }
      ]
    },
    {
      "cell_type": "code",
      "source": [
        "import matplotlib.pyplot as plt\n",
        "from energydiagram import ED\n",
        "diagram = ED()\n",
        "diagram.add_level(mf.kernel(),'Cis')\n",
        "diagram.add_level(mf2.kernel(),'TS',color='g')\n",
        "diagram.add_level(mf1.kernel(),'trans')\n",
        "\n",
        "diagram.add_link(0,1)\n",
        "diagram.add_link(1,2)\n",
        "diagram.plot(ylabel=\"Energy / $kcal$ $mol^{-1}$\") # this is the default ylabel\n"
      ],
      "metadata": {
        "colab": {
          "base_uri": "https://localhost:8080/",
          "height": 445
        },
        "id": "3KqNJVRhmyzU",
        "outputId": "c15bcfa8-689f-4922-81cc-db1dd5298d81"
      },
      "execution_count": 40,
      "outputs": [
        {
          "output_type": "stream",
          "name": "stdout",
          "text": [
            "converged SCF energy = -214.251990680734\n",
            "converged SCF energy = -214.088044019753\n",
            "converged SCF energy = -214.252316312389\n"
          ]
        },
        {
          "output_type": "display_data",
          "data": {
            "text/plain": [
              "<Figure size 640x480 with 1 Axes>"
            ],
            "image/png": "[encoded data removed]"
          },
          "metadata": {}
        }
      ]
    },
    {
      "cell_type": "markdown",
      "source": [
        "# ¿Reacción endotérmica o exotérmica?"
      ],
      "metadata": {
        "id": "EMafgzIHoHQB"
      }
    },
    {
      "cell_type": "code",
      "source": [
        "Ereactante = mf.kernel()"
      ],
      "metadata": {
        "colab": {
          "base_uri": "https://localhost:8080/"
        },
        "id": "38cxyKlQoQpW",
        "outputId": "9a7681f4-0809-4ace-a55c-796989feba77"
      },
      "execution_count": 45,
      "outputs": [
        {
          "output_type": "stream",
          "name": "stdout",
          "text": [
            "converged SCF energy = -214.251990680734\n"
          ]
        }
      ]
    },
    {
      "cell_type": "code",
      "source": [
        "Eproducto = mf1.kernel()"
      ],
      "metadata": {
        "colab": {
          "base_uri": "https://localhost:8080/"
        },
        "id": "JI-d-pcJoyk_",
        "outputId": "db06affc-6067-4331-cf61-5c288302175b"
      },
      "execution_count": 43,
      "outputs": [
        {
          "output_type": "stream",
          "name": "stdout",
          "text": [
            "converged SCF energy = -214.252316312389\n"
          ]
        }
      ]
    },
    {
      "cell_type": "code",
      "source": [
        "Eentalpia = Eproducto - Ereactante\n",
        "Eentalpia"
      ],
      "metadata": {
        "colab": {
          "base_uri": "https://localhost:8080/"
        },
        "id": "SUdu6z9Eo9JV",
        "outputId": "26556c25-4cce-4a13-f2e6-349cdb5f4f4d"
      },
      "execution_count": 46,
      "outputs": [
        {
          "output_type": "execute_result",
          "data": {
            "text/plain": [
              "-0.0003256316545048321"
            ]
          },
          "metadata": {},
          "execution_count": 46
        }
      ]
    },
    {
      "cell_type": "markdown",
      "source": [
        "- Ya que la energiá de entalpia resulta ser *positiva*, la reacción es *Exotermica*."
      ],
      "metadata": {
        "id": "9xU7R8yupJ6j"
      }
    }
  ]
}