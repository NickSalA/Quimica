{
  "nbformat": 4,
  "nbformat_minor": 0,
  "metadata": {
    "colab": {
      "provenance": [],
      "authorship_tag": "ABX9TyO8k42Atw3qxT35ZDuk/LVM",
      "include_colab_link": true
    },
    "kernelspec": {
      "name": "python3",
      "display_name": "Python 3"
    },
    "language_info": {
      "name": "python"
    }
  },
  "cells": [
    {
      "cell_type": "markdown",
      "metadata": {
        "id": "view-in-github",
        "colab_type": "text"
      },
      "source": [
        "<a href=\"https://colab.research.google.com/github/NickSalA/Quimica/blob/Actividades/Actividad_L%C3%ADquidos_y_soluciones.ipynb\" target=\"_parent\"><img src=\"https://colab.research.google.com/assets/colab-badge.svg\" alt=\"Open In Colab\"/></a>"
      ]
    },
    {
      "cell_type": "code",
      "execution_count": null,
      "metadata": {
        "id": "fjWU9ZPjLeR0"
      },
      "outputs": [],
      "source": []
    },
    {
      "cell_type": "markdown",
      "source": [
        "***Fuerzas Intermoleculares***"
      ],
      "metadata": {
        "id": "whLOPoXEL6jV"
      }
    },
    {
      "cell_type": "markdown",
      "source": [
        "**1.** Explique el termino \"polarizabilidad\". ¿Que clase de moleculas tienden a ser muy polarizables? ¿Que relacion existe entre la porizabilidad y las fuerzas intermoleculares?"
      ],
      "metadata": {
        "id": "Vsz5WYRsL_VO"
      }
    },
    {
      "cell_type": "markdown",
      "source": [
        "La polarizabilidad es la propiedad con la que una fuerza externa puede distorsionar la distribución de cargas de un átomo o molécula. Esta deformación depende de varios factores, como el tamaño molecular, el número de electrones o la masa molecular. Las moléculas que tienden a ser muy polarizables son aquellas que tienen una nube de carga que se distorsiona fácilmente.\n",
        "\n",
        "La relación entre la polarizabilidad y las fuerzas intermoleculares es que la clasificación de las fuerzas se realiza en base a la polaridad de las moléculas o la base de la naturaleza de estas mismas y los elementos que las conforman. Las fuerzas intermoleculares son las atracciones entre las moléculas, que determinan muchas de las propiedades físicas de una sustancia. Las fuerzas de dispersión, también conocidas como fuerzas de London, son las fuerzas de atracción entre átomos y moléculas neutras y dependen de la polarizabilidad de la molécula. Las moléculas polares tienen dipolos permanentes que tienden a alinearse con el extremo positivo orientado hacia el extremo negativo de otra molécula, lo que se conoce como fuerza dipolo-dipolo."
      ],
      "metadata": {
        "id": "wJK4qiDjYClA"
      }
    },
    {
      "cell_type": "markdown",
      "source": [
        "**2.** Explique la diferencia entre un momento dipolar temporal y uno permanente."
      ],
      "metadata": {
        "id": "ivdxPA8SOxt3"
      }
    },
    {
      "cell_type": "markdown",
      "source": [
        "3. Mencione alguna evidencia de que todos los atomos y moleculas ejercen entre si fuerzas de atracción"
      ],
      "metadata": {
        "id": "XlN-CZS5O5Js"
      }
    },
    {
      "cell_type": "markdown",
      "source": [
        "4. Cuales elementos pueden participar en los enlaces de hidrogeno? ¿Porque el hidrogeno es unico en este tipo de interacción?"
      ],
      "metadata": {
        "id": "jr0HR75KPMV5"
      }
    },
    {
      "cell_type": "markdown",
      "source": [
        "5. ¿De cual miembro de cada uno de los siguientes pares de sustancias se esperaria que tuviera el punto de ebullicipon mas alto? a) O2 y Cl2 b)SO2 y CO2 c) HF y HI"
      ],
      "metadata": {
        "id": "coZoSHO_RXhQ"
      }
    },
    {
      "cell_type": "code",
      "source": [],
      "metadata": {
        "id": "aTc-Och0O49D"
      },
      "execution_count": null,
      "outputs": []
    },
    {
      "cell_type": "code",
      "source": [],
      "metadata": {
        "id": "Gq5OjflbO4Xk"
      },
      "execution_count": null,
      "outputs": []
    }
  ]
}