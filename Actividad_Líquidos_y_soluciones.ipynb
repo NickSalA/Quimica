{
  "cells": [
    {
      "cell_type": "markdown",
      "metadata": {
        "id": "view-in-github",
        "colab_type": "text"
      },
      "source": [
        "<a href=\"https://colab.research.google.com/github/NickSalA/Quimica/blob/Actividades/Actividad_L%C3%ADquidos_y_soluciones.ipynb\" target=\"_parent\"><img src=\"https://colab.research.google.com/assets/colab-badge.svg\" alt=\"Open In Colab\"/></a>"
      ]
    },
    {
      "cell_type": "markdown",
      "metadata": {
        "id": "whLOPoXEL6jV"
      },
      "source": [
        "***Fuerzas Intermoleculares***"
      ]
    },
    {
      "cell_type": "markdown",
      "metadata": {
        "id": "Vsz5WYRsL_VO"
      },
      "source": [
        "**1.** Explique el termino \"polarizabilidad\". ¿Que clase de moleculas tienden a ser muy polarizables? ¿Que relacion existe entre la porizabilidad y las fuerzas intermoleculares?"
      ]
    },
    {
      "cell_type": "markdown",
      "metadata": {
        "id": "wJK4qiDjYClA"
      },
      "source": [
        "- La polarizabilidad es la propiedad con la que una fuerza externa puede distorsionar la distribución de cargas de un átomo o molécula. Esta deformación depende de varios factores, como el tamaño molecular, el número de electrones o la masa molecular. Las moléculas que tienden a ser muy polarizables son aquellas que tienen una nube de carga que se distorsiona fácilmente.\n",
        "\n",
        "- La relación entre la polarizabilidad y las fuerzas intermoleculares es que la clasificación de las fuerzas se realiza en base a la polaridad de las moléculas o la base de la naturaleza de estas mismas y los elementos que las conforman. Las fuerzas intermoleculares son las atracciones entre las moléculas, que determinan muchas de las propiedades físicas de una sustancia. Las fuerzas de dispersión, también conocidas como fuerzas de London, son las fuerzas de atracción entre átomos y moléculas neutras y dependen de la polarizabilidad de la molécula. Las moléculas polares tienen dipolos permanentes que tienden a alinearse con el extremo positivo orientado hacia el extremo negativo de otra molécula, lo que se conoce como fuerza dipolo-dipolo."
      ]
    },
    {
      "cell_type": "markdown",
      "metadata": {
        "id": "ivdxPA8SOxt3"
      },
      "source": [
        "**2.** Explique la diferencia entre un momento dipolar temporal y uno permanente."
      ]
    },
    {
      "cell_type": "markdown",
      "metadata": {
        "id": "2zud7z96mMgX"
      },
      "source": [
        "La diferencia clave entre un momento dipolar temporal y un momento dipolar permanente radica en su naturaleza y duración.\n",
        "\n",
        "**Momento dipolar temporal**: También conocido como dipolo instantáneo, se debe al movimiento de los electrones en un átomo o molécula. En un instante específico, los electrones pueden tener posiciones diferentes, lo que genera un momento dipolar temporal. Sin embargo, en un tiempo promedio, el átomo no tiene un momento dipolar debido a que estos dipolos instantáneos se cancelan entre sí. Los momentos dipolares temporales pueden inducir dipolos en moléculas vecinas, pero no son permanentes y cambian constantemente.\n",
        "\n",
        "**Momento dipolar permanente**: Este tipo de momento dipolar se presenta cuando los átomos tienen una gran diferencia de electronegatividad, lo que provoca que los electrones se concentren en un lado del átomo. La polaridad de un enlace se puede medir mediante el momento dipolar permanente, que es el producto de la carga y la distancia entre las cargas. Las moléculas con momentos dipolares permanentes son las moléculas polares."
      ]
    },
    {
      "cell_type": "markdown",
      "metadata": {
        "id": "XlN-CZS5O5Js"
      },
      "source": [
        "**3.** Mencione alguna evidencia de que todos los atomos y moleculas ejercen entre si fuerzas de atracción"
      ]
    },
    {
      "cell_type": "markdown",
      "metadata": {
        "id": "WBpEAT7Ym3Nu"
      },
      "source": [
        "La evidencia que todos los átomos y moléculas ejercen entre sí fuerzas de atracción se puede encontrar en varios aspectos y uno de ellos es:\n",
        "\n",
        "- Las fuerzas intermoleculares son las atracciones entre moléculas y determinan las propiedades físicas de las sustancias, como su punto de fusión, punto de ebullición, solubilidad y densidad. Se clasifican en fuerzas de dispersión, atracciones dipolo-dipolo y enlaces de hidrógeno. Estas fuerzas son responsables de la transición entre los estados de agregación de los compuestos (gases, líquidos y sólidos) y son diferentes de las fuerzas intramoleculares, que mantienen unida la molécula. Además, las fuerzas intermoleculares pueden variar según la polaridad de las moléculas involucradas, como las fuerzas dipolo-dipolo y los enlaces de hidrógeno que son más fuertes en moléculas polares."
      ]
    },
    {
      "cell_type": "markdown",
      "metadata": {
        "id": "jr0HR75KPMV5"
      },
      "source": [
        "**4.** Cuales elementos pueden participar en los enlaces de hidrogeno? ¿Porque el hidrogeno es unico en este tipo de interacción?"
      ]
    },
    {
      "cell_type": "markdown",
      "metadata": {
        "id": "naLc7Sjwosqh"
      },
      "source": [
        "- Los elementos que pueden participar en los enlaces de hidrógeno son aquellos que tienen una alta electronegatividad y, por lo tanto, atraen los electrones del hidrógeno con gran fuerza. Los elementos que pueden formar enlaces de hidrógeno son el flúor, el oxígeno y el nitrógeno. Estos tres elementos son tan electronegativos que retiran la mayor parte de la densidad electrónica en el enlace covalente con hidrógeno, dejando al átomo de hidrógeno muy deficiente en electrones. El átomo de hidrógeno casi actúa como un protón desnudo, dejándolo muy atraído por electrones de pares solitarios en un átomo cercano.\n",
        "\n",
        "- Los enlaces de hidrógeno son un tipo especial de interacción dipolo-dipolo que ocurre entre el par solitario de un átomo altamente electronegativo (generalmente O, N o F) y el átomo de hidrógeno en un enlace N-H, O-H o F-H. El hidrógeno es único en este tipo de interacción debido a que es el átomo más pequeño y menos electronegativo. Además, el hidrógeno solo tiene un electrón y, por lo tanto, solo puede formar un enlace covalente con otro átomo.\n",
        "\n"
      ]
    },
    {
      "cell_type": "markdown",
      "metadata": {
        "id": "coZoSHO_RXhQ"
      },
      "source": [
        "**5.** ¿De cual miembro de cada uno de los siguientes pares de sustancias se esperaria que tuviera el punto de ebullicipon mas alto? a) O2 y Cl2 b)SO2 y CO2 c) HF y HI"
      ]
    },
    {
      "cell_type": "markdown",
      "metadata": {
        "id": "QVsYqE7Fpwpi"
      },
      "source": [
        "a) O2 y Cl2:\n",
        "\n",
        " - Ambas sustancias (O2 y Cl2) tienen fuerzas de dispersión de London, pero Cl2 es más pesado que O2 (mayor masa molecular), lo que resulta en una mayor polarizabilidad y, por lo tanto, en fuerzas de dispersión ligeramente más fuertes. Por lo tanto, Cl2 tendría un punto de ebullición más alto que O2.\n",
        "\n",
        "b) SO2 y CO2:\n",
        "\n",
        "- El SO2 tiene fuerzas dipolo-dipolo, que son más fuertes que las fuerzas de dispersión de London presentes en el CO2. Por lo tanto, el SO2 tendría un punto de ebullición más alto que el CO2.\n",
        "\n",
        "c) HF e HI:\n",
        "\n",
        "- Ambas sustancias (HF e HI) son polares y tienen fuerzas dipolo-dipolo. En este caso, el HI tendría un punto de ebullición más alto que el HF debido a que el yodo (I) es un átomo más grande y pesado que el flúor (F), lo que aumenta la polarizabilidad y, por lo tanto, las fuerzas dipolo-dipolo son más fuertes en el HI."
      ]
    },
    {
      "cell_type": "markdown",
      "metadata": {
        "id": "ius4UGEPQ5Cc"
      },
      "source": [
        "\n",
        "\n",
        "---\n",
        "\n"
      ]
    },
    {
      "cell_type": "markdown",
      "metadata": {
        "id": "IvXu3SVMAUzq"
      },
      "source": [
        "***Propiedades de los líquidos***"
      ]
    },
    {
      "cell_type": "markdown",
      "metadata": {
        "id": "XDhLxHM4AeiC"
      },
      "source": [
        "**1.** ¿Por qué los liquidos, a diferencia de los gases, son practicamente incomprensibles?"
      ]
    },
    {
      "cell_type": "markdown",
      "metadata": {
        "id": "psOkLQsY8fIp"
      },
      "source": [
        "- Los líquidos son prácticamente incompresibles debido a la fuerza de cohesión entre sus moléculas, que impide que se puedan comprimir fácilmente. A diferencia de los gases, los átomos y moléculas que componen los líquidos están más o menos en contacto, y si no se acercan aún más es por la repulsión mutua de los electrones que existen en las regiones exteriores de los átomos."
      ]
    },
    {
      "cell_type": "markdown",
      "metadata": {
        "id": "5tuEBtkjA126"
      },
      "source": [
        "**2.** Utilice el agua y mercurio como ejemplos para explicar la adhesión y la cohesión"
      ]
    },
    {
      "cell_type": "markdown",
      "metadata": {
        "id": "BjYPdAm8-9gI"
      },
      "source": [
        "La cohesión y la adhesión son dos fuerzas que explican el comportamiento de los líquidos. El agua y el mercurio son dos ejemplos que ilustran estas fuerzas.\n",
        "\n",
        "- Cohesión: es la fuerza que mantiene unidas las moléculas de un mismo líquido. El agua, por ejemplo, es fuertemente cohesiva debido a que cada molécula puede hacer cuatro enlaces de hidrógeno con otras moléculas de agua en una configuración tetraédrica. Esto resulta en una fuerza de Coulomb relativamente fuerte entre las moléculas. En el caso del mercurio, las fuerzas de cohesión son mayores que las de adhesión al vidrio, lo que hace que no se extienda para cubrir la superficie del matraz.\n",
        "\n",
        "- Adhesión: es la fuerza que atrae a las moléculas de un líquido hacia las moléculas de otra sustancia. En el caso del agua, es fuertemente adhesiva debido a que las moléculas de agua sienten atracción por las moléculas de las paredes que las contienen. Esto se debe a que las fuerzas de adhesión son mayores que las de cohesión en el agua, lo que hace que moje las superficies. En el caso del mercurio, las fuerzas de adhesión son menores que las de cohesión, lo que hace que no moje las superficies."
      ]
    },
    {
      "cell_type": "markdown",
      "metadata": {
        "id": "dFda1BxdBEsC"
      },
      "source": [
        "**3.** ¿Por qué el hielo es menos denso que el agua?"
      ]
    },
    {
      "cell_type": "markdown",
      "metadata": {
        "id": "FeC_MpOzOmjN"
      },
      "source": [
        "El hielo es menos denso que el agua líquida debido a la estructura cristalina que adopta al congelarse. Cuando el agua se enfría, se contrae su volumen, como sucede en todos los cuerpos, pero al alcanzar los 4°C cesa la contracción y su estructura se dilata hasta transformarse en hielo en el punto de congelación. En este punto, las moléculas de agua se organizan en una estructura cristalina que forma un retículo que ocupa más espacio y es menos denso que el agua líquida"
      ]
    },
    {
      "cell_type": "markdown",
      "metadata": {
        "id": "OPZK-Xv4BLJy"
      },
      "source": [
        " **4.** ¿Que es la viscosidad? ¿Cual es la relación entre las fuerzas intermoleculares y la viscosidad?"
      ]
    },
    {
      "cell_type": "markdown",
      "metadata": {
        "id": "uTwVv4Q7hVvg"
      },
      "source": [
        "La viscosidad es una medida de la resistencia que muestran los líquidos a fluir. Esta resistencia se debe a las fuerzas intermoleculares que existen entre las moléculas del líquido. Las fuerzas intermoleculares son las fuerzas que mantienen unidas las moléculas de una sustancia y que determinan sus propiedades físicas y químicas. Por lo tanto, cuanto más fuertes sean las fuerzas intermoleculares de atracción entre las moléculas de un líquido, mayor será su viscosidad."
      ]
    },
    {
      "cell_type": "markdown",
      "metadata": {
        "id": "PBCI-_XuhVp0"
      },
      "source": []
    },
    {
      "cell_type": "markdown",
      "metadata": {
        "id": "N8pwWexRPh88"
      },
      "source": [
        "\n",
        "\n",
        "---\n",
        "\n"
      ]
    },
    {
      "cell_type": "markdown",
      "metadata": {
        "id": "lNCZOUXdQ9HL"
      },
      "source": [
        "***Soluciones***"
      ]
    },
    {
      "cell_type": "markdown",
      "metadata": {
        "id": "jn9xSECiRQCB"
      },
      "source": [
        "**1.** A partir de las fuerzas intermoleculares explique el significado de \"lo semejante disuelve lo semejante\""
      ]
    },
    {
      "cell_type": "markdown",
      "metadata": {
        "id": "V6-hpx7CRtCj"
      },
      "source": [
        "\"Lo semejante disuelve lo semejante\" es una regla utilizada en química que significa que una sustancia polar se disolverá mejor en un solvente polar, mientras que una sustancia no polar se disolverá mejor en un solvente no polar."
      ]
    },
    {
      "cell_type": "markdown",
      "metadata": {
        "id": "UFjZThc0UwI4"
      },
      "source": [
        "**2.** Explique porque el proceso de disolucion invariable conduce a un aumento en el desorden"
      ]
    },
    {
      "cell_type": "markdown",
      "metadata": {
        "id": "1kKDAxt1OrLM"
      },
      "source": [
        "- El proceso de disolución invariablemente conduce a un aumento en el desorden debido a que cuando se disuelve un soluto en un solvente, las moléculas del soluto se separan y se dispersan en el solvente. Esto provoca un aumento en la entropía del sistema, que es una medida del desorden molecular.\n",
        "- En estado puro, tanto el soluto como el solvente tienen cierto grado de orden, que se caracteriza por la disposición más o menos regular de átomos, moléculas o iones en el espacio tridimensional. Sin embargo, cuando el soluto se disuelve en el solvente, se destruye este orden y se produce un aumento en el desorden molecular."
      ]
    },
    {
      "cell_type": "markdown",
      "metadata": {
        "id": "L_yc2WmqU7RF"
      },
      "source": [
        "**3.** Describa brevemente el proceso de disolución a nivel molecular. Utilice como ejemplo la disolución de un sólido a un líquido."
      ]
    },
    {
      "cell_type": "markdown",
      "metadata": {
        "id": "lkYomPTVhpqx"
      },
      "source": [
        "- El proceso de disolución a nivel molecular consiste en la interacción entre las partículas del soluto y del solvente, que se atraen entre sí por fuerzas intermoleculares.\n",
        "- Un ejemplo de disolución de un sólido en un líquido es la disolución de sal en agua. La sal es un compuesto iónico que se disocia en iones positivos de sodio y negativos de cloruro cuando se disuelve en agua. Los iones de la sal se atraen por los polos opuestos de las moléculas de agua, formando puentes de hidrógeno. Estas interacciones compensan la energía necesaria para separar las moléculas de agua y los iones de la sal, y permiten que la disolución sea favorable."
      ]
    },
    {
      "cell_type": "markdown",
      "metadata": {
        "id": "1PjOdD38juKw"
      },
      "source": [
        "**4.** Acomode los siguientes compuestos en orden ascendente de solubilidad de agua: O2, LiCl, Br2, metanol (CH3OH)"
      ]
    },
    {
      "cell_type": "code",
      "execution_count": null,
      "metadata": {
        "colab": {
          "base_uri": "https://localhost:8080/"
        },
        "id": "aTc-Och0O49D",
        "outputId": "b829ea60-d768-4b9c-d201-1fa8608dc01f"
      },
      "outputs": [
        {
          "name": "stdout",
          "output_type": "stream",
          "text": [
            "Para 02:\n",
            "Dado que la diferencia de electronegatividad es 0.0, el enlace en O2 es apolar y no es muy soluble en agua debido a su falta de carga eléctrica neta.\n",
            "Para LiCl:\n",
            "Dado que la diferencia de electronegatividad es 2.18, es un compuesto iónico altamente soluble en agua debido a su naturaleza polar.\n",
            "Para Br2:\n",
            "Dado que la diferencia de electronegatividad es 0.0, el enlace en Br2 es apolar y no es muy soluble en agua debido a su falta de carga eléctrica neta.\n",
            "Para Br2:\n",
            "Dado que la diferencia de electronegatividad es 1.2399999999999998, el enlace en CH3OH es polar y es soluble en agua debido a su naturaleza polar.\n",
            "En resumen, el orden ascendente de solubilidad en agua de los compuestos mencionados es: Br2, O2, LiCl y metanol (CH3OH).\n"
          ]
        }
      ],
      "source": [
        "\"\"\"La solubilidad en agua está influenciada por varios factores, incluyendo la polaridad de las moléculas y las fuerzas intermoleculares.\n",
        "En este caso, vamos a considerar la electronegatividad de los elementos para determinar si las moléculas son polares o apolares,\n",
        "ya que esto influye en su capacidad para disolverse en agua.\"\"\"\n",
        "#EN\n",
        "EN= { 'O' : 3.44 ,'Li' : 0.98, 'Cl':3.16 ,'Br': 2.96, 'C':2.55, 'H':2.20}\n",
        "#A partir de la diferencia de electronegatividades se puede saber si es polar o apolar.\n",
        "print('Para 02:')\n",
        "O2 = 3.44 - 3.44\n",
        "print(f'Dado que la diferencia de electronegatividad es {O2}, el enlace en O2 es apolar y no es muy soluble en agua debido a su falta de carga eléctrica neta.')\n",
        "print ('Para LiCl:')\n",
        "LiCl= 3.16 - 0.98\n",
        "print(f'Dado que la diferencia de electronegatividad es {LiCl}, es un compuesto iónico altamente soluble en agua debido a su naturaleza polar.')\n",
        "print ('Para Br2:')\n",
        "Br2= 2.96-2.96\n",
        "print(f'Dado que la diferencia de electronegatividad es {Br2}, el enlace en Br2 es apolar y no es muy soluble en agua debido a su falta de carga eléctrica neta.')\n",
        "print ('Para Br2:')\n",
        "CH3OH= 3.44 - 2.20 #Se toma la mayor electronegatividad - la menor electronegatividad\n",
        "print(f'Dado que la diferencia de electronegatividad es {CH3OH}, el enlace en CH3OH es polar y es soluble en agua debido a su naturaleza polar.')\n",
        "\n",
        "print(f'En resumen, el orden ascendente de solubilidad en agua de los compuestos mencionados es: Br2, O2, LiCl y metanol (CH3OH).')\n"
      ]
    },
    {
      "cell_type": "markdown",
      "metadata": {
        "id": "shwKWqK0FFzt"
      },
      "source": [
        "\n",
        "\n",
        "---\n",
        "\n"
      ]
    },
    {
      "cell_type": "markdown",
      "metadata": {
        "id": "mcZxpFK5FHzl"
      },
      "source": [
        "***Unidades de concentración***"
      ]
    },
    {
      "cell_type": "markdown",
      "metadata": {
        "id": "GnB6w2rxFPKm"
      },
      "source": [
        "**1.** Defina los siguientes terminos de concetración y especifique sus unidades en \"porcentaje en masa\", \"fracción molar\", \"molaridad\" y \"molalidad\". Compare sus ventajas y desventajas."
      ]
    },
    {
      "cell_type": "markdown",
      "metadata": {
        "id": "dnd44c0zGRoh"
      },
      "source": [
        "Definiciones de concentración y sus unidades:\n",
        "\n",
        "- Porcentaje en masa: es la cantidad de soluto presente en una solución expresada como porcentaje de la masa total de la solución. Se calcula dividiendo la masa del soluto entre la masa total de la solución y multiplicando por 100. La unidad es el porcentaje (%).\n",
        "- Fracción molar: es la relación entre la cantidad de moles de un componente en una solución y el número total de moles de todos los componentes presentes en la solución. Se calcula dividiendo el número de moles del componente entre el número total de moles de la solución. La unidad es adimensional.\n",
        "- Molaridad: es la cantidad de moles de soluto presente en un litro de solución. Se calcula dividiendo el número de moles del soluto entre el volumen de la solución en litros. La unidad es mol/L.\n",
        "- Molalidad: es la cantidad de moles de soluto presente en un kilogramo de solvente. Se calcula dividiendo el número de moles del soluto entre la masa del solvente en kilogramos. La unidad es mol/kg.\n",
        "\n",
        "Ventajas y desventajas de cada unidad de concentración:\n",
        "\n",
        "- Porcentaje en masa:\n",
        "  - Ventajas: es fácil de calcular y de entender.\n",
        "  - Desventajas: no es una medida precisa de la concentración y no es útil para comparar soluciones con diferentes densidades.\n",
        "- Fracción molar:\n",
        "  - Ventajas: es una medida precisa de la concentración y es útil para comparar soluciones con diferentes densidades.\n",
        "  - Desventajas: no es fácil de entender para personas que no están familiarizadas con la química.\n",
        "- Molaridad:\n",
        "  - Ventajas: es una medida precisa de la concentración y es útil para realizar cálculos estequiométricos.\n",
        "  - Desventajas: no es útil para comparar soluciones con diferentes densidades y no tiene en cuenta la temperatura y la presión.\n",
        "- Molalidad:\n",
        "  - Ventajas: es útil para comparar soluciones con diferentes densidades y tiene en cuenta la temperatura y la presión.\n",
        "  - Desventajas: no es útil para realizar cálculos estequiométricos y no es fácil de entender para personas que no están familiarizadas con la química.\n"
      ]
    },
    {
      "cell_type": "markdown",
      "metadata": {
        "id": "mdv_8dbWFowZ"
      },
      "source": [
        "**2.** Calcule la cantidad de agua (en gramos) que se debe agregar a: a) 5.00 g de urea (NH2)2CO para preparar una disolución al 16.2% en masa y b) 26.2 g de MgCl2 para preparar una disolución al 1.5% en masa."
      ]
    },
    {
      "cell_type": "code",
      "execution_count": null,
      "metadata": {
        "colab": {
          "base_uri": "https://localhost:8080/"
        },
        "id": "3tt8QH8Kp1Kn",
        "outputId": "a1eb88a6-93bd-4e62-dadd-c6b10332a9dc"
      },
      "outputs": [
        {
          "output_type": "stream",
          "name": "stdout",
          "text": [
            "Masa de agua en la solución de urea: 25.86 gramos\n",
            "Masa de agua en la solución de MgCl2: 1720.47 gramos\n"
          ]
        }
      ],
      "source": [
        "mUrea = 5\n",
        "porcentaje_urea = 16.2\n",
        "\n",
        "masa_agua_urea = mUrea * 100 / porcentaje_urea - mUrea\n",
        "print(\"Masa de agua en la solución de urea:\", round(masa_agua_urea, 2), \"gramos\")\n",
        "\n",
        "# Para la solución con MgCl2\n",
        "masa_MgCl2 = 26.2  # masa del soluto de MgCl2 en gramos\n",
        "porcentaje_MgCl2 = 1.5  # porcentaje de masa de MgCl2\n",
        "\n",
        "# Fórmula para calcular la masa de agua en la solución de MgCl2\n",
        "masa_agua_MgCl2 = masa_MgCl2 * 100 / porcentaje_MgCl2 - masa_MgCl2\n",
        "print(\"Masa de agua en la solución de MgCl2:\", round(masa_agua_MgCl2, 2), \"gramos\")\n"
      ]
    },
    {
      "cell_type": "markdown",
      "metadata": {
        "id": "HOEDpNsSuOru"
      },
      "source": [
        "3. Calcule el porcentaje en masa de soluto en cada una de las siguientes disoluciones acuosas:\n",
        "a)5.50g de NaBr en 78.2g de disolución.\n",
        "b)31.0g de KCl en 152g de agua.\n",
        "c)4,5g de tolueno en 29g de benceno."
      ]
    },
    {
      "cell_type": "code",
      "execution_count": null,
      "metadata": {
        "colab": {
          "base_uri": "https://localhost:8080/"
        },
        "id": "tOXomWw4uRLq",
        "outputId": "01d293d1-6387-4fe5-97ba-75ef0d0a1675"
      },
      "outputs": [
        {
          "output_type": "stream",
          "name": "stdout",
          "text": [
            "Concentración del ejercicio a: 7.03 % m/v\n",
            "Concentración del ejercicio b: 16.94 % m/v\n",
            "Concentración del ejercicio c: 13.43 % m/v\n"
          ]
        }
      ],
      "source": [
        "def calcular_concentracion(solutos, volumen):\n",
        "    concentraciones = [(s / v) * 100 for s, v in zip(solutos, volumen)]\n",
        "    return concentraciones\n",
        "\n",
        "# Ejercicio a\n",
        "solutos_a = [5.5]  # g de NaBr\n",
        "volumen_a = [78.2]  # ml\n",
        "concentracion_a = calcular_concentracion(solutos_a, volumen_a)\n",
        "print(\"Concentración del ejercicio a: {:.2f} % m/v\".format(concentracion_a[0]))\n",
        "\n",
        "# Ejercicio b\n",
        "def calcular_concentracion2(solutos, volumen):\n",
        "    concentraciones = [(s / (v+s)) * 100 for s, v in zip(solutos, volumen)]\n",
        "    return concentraciones\n",
        "solutos_b = [31]  # g de KCl\n",
        "volumen_b = [152]  # ml\n",
        "concentracion_b = calcular_concentracion2(solutos_b, volumen_b)\n",
        "print(\"Concentración del ejercicio b: {:.2f} % m/v\".format(concentracion_b[0]))\n",
        "\n",
        "# Ejercicio c\n",
        "solutos_c = [4.5]  # g de Tolueno\n",
        "volumen_c = [29]  # ml\n",
        "concentracion_c = calcular_concentracion2(solutos_c, volumen_c)\n",
        "print(\"Concentración del ejercicio c: {:.2f} % m/v\".format(concentracion_c[0]))\n"
      ]
    },
    {
      "cell_type": "markdown",
      "source": [
        "4. Calcule"
      ],
      "metadata": {
        "id": "lIylVeJMxPuH"
      }
    },
    {
      "cell_type": "code",
      "source": [
        "def calcular_molalidad(moles_soluto, masa_solvente):\n",
        "    molalidad = moles_soluto / masa_solvente\n",
        "    return molalidad\n",
        "\n",
        "# a) Calculando con los valores dados\n",
        "moles_a = 0.042\n",
        "masa_solvente_a = 0.676\n",
        "molalidad_a = calcular_molalidad(moles_a, masa_solvente_a)\n",
        "print(\"a) Molalidad:\", molalidad_a)\n",
        "\n",
        "# b) Nuevos valores\n",
        "moles_b = 7.20\n",
        "masa_solvente_b = 3.546\n",
        "molalidad_b = calcular_molalidad(moles_b, masa_solvente_b)\n",
        "print(\"b) Molalidad:\", molalidad_b)\n"
      ],
      "metadata": {
        "colab": {
          "base_uri": "https://localhost:8080/"
        },
        "id": "rLbtKCcQxSKQ",
        "outputId": "f5df2aa2-0298-4b7b-d952-5b2d4c80c49c"
      },
      "execution_count": null,
      "outputs": [
        {
          "output_type": "stream",
          "name": "stdout",
          "text": [
            "a) Molalidad: 0.0621301775147929\n",
            "b) Molalidad: 2.0304568527918785\n"
          ]
        }
      ]
    },
    {
      "cell_type": "markdown",
      "source": [
        "**5.** Calcule la molalidad de cada una de las siguientes diso- luciones acuosas: a) disolución de azúcar (C12H22O11) 1.22 M (densidad de la disolución = 1.12 g/mL), b) disolución de NaOH 0.87 M (densidad de la disolu- ción = 1.04 g/mL), c) disolución de NaHCO3 5.24 M (densidad de la disolución = 1.19 g/mL)."
      ],
      "metadata": {
        "id": "Ssn9gmDjxjb2"
      }
    },
    {
      "cell_type": "code",
      "source": [
        "masa_molar_azucar = 342  # g/mol\n",
        "volumen_solucion_azucar = 1  # L\n",
        "concentracion_azucar = 1.22  # M\n",
        "densidad_azucar = 1.12  # g/mL\n",
        "\n",
        "masa_solucion_azucar = densidad_azucar * volumen_solucion_azucar * 1000  # g\n",
        "\n",
        "masa_azucar = concentracion_azucar * masa_molar_azucar  # g\n",
        "\n",
        "masa_agua_azucar = masa_solucion_azucar - masa_azucar  # g\n",
        "\n",
        "masa_agua_azucar_kg = masa_agua_azucar / 1000  # kg\n",
        "\n",
        "molalidad_azucar = concentracion_azucar / masa_agua_azucar_kg\n",
        "print(\"Molalidad de la disolución de azúcar:\", round(molalidad_azucar, 2), \"m\")\n",
        "\n",
        "masa_molar_NaOH = 40  # g/mol\n",
        "volumen_solucion_NaOH = 1  # L\n",
        "concentracion_NaOH = 0.87  # M\n",
        "densidad_NaOH = 1.04  # g/mL\n",
        "\n",
        "masa_solucion_NaOH = densidad_NaOH * volumen_solucion_NaOH * 1000  # g\n",
        "masa_NaOH = concentracion_NaOH * masa_molar_NaOH  # g\n",
        "masa_agua_NaOH = masa_solucion_NaOH - masa_NaOH  # g\n",
        "masa_agua_NaOH_kg = masa_agua_NaOH / 1000  # kg\n",
        "\n",
        "molalidad_NaOH = concentracion_NaOH / masa_agua_NaOH_kg\n",
        "print(\"Molalidad de la disolución de NaOH:\", round(molalidad_NaOH, 3), \"m\")\n",
        "\n",
        "masa_molar_NaHCO3 = 84  # g/mol\n",
        "volumen_solucion_NaHCO3 = 1  # L\n",
        "concentracion_NaHCO3 = 5.24  # M\n",
        "densidad_NaHCO3 = 1.19  # g/mL\n",
        "\n",
        "masa_solucion_NaHCO3 = densidad_NaHCO3 * volumen_solucion_NaHCO3 * 1000  # g\n",
        "\n",
        "masa_NaHCO3 = concentracion_NaHCO3 * masa_molar_NaHCO3  # g\n",
        "\n",
        "masa_agua_NaHCO3 = masa_solucion_NaHCO3 - masa_NaHCO3  # g\n",
        "\n",
        "masa_agua_NaHCO3_kg = masa_agua_NaHCO3 / 1000  # kg\n",
        "\n",
        "molalidad_NaHCO3 = concentracion_NaHCO3 / masa_agua_NaHCO3_kg\n",
        "print(\"Molalidad de la disolución de NaHCO3:\", round(molalidad_NaHCO3, 2), \"m\")"
      ],
      "metadata": {
        "colab": {
          "base_uri": "https://localhost:8080/"
        },
        "id": "LE5znNcOxnGJ",
        "outputId": "57cfc3d3-990d-4784-f061-a46d5ce091ef"
      },
      "execution_count": null,
      "outputs": [
        {
          "output_type": "stream",
          "name": "stdout",
          "text": [
            "Molalidad de la disolución de azúcar: 1.74 m\n",
            "Molalidad de la disolución de NaOH: 0.865 m\n",
            "Molalidad de la disolución de NaHCO3: 6.99 m\n"
          ]
        }
      ]
    },
    {
      "cell_type": "markdown",
      "source": [
        "6. Calcule la molalidad de cada una de las siguientes disoluciones acuosas:\n",
        " a)Disolución de NaCl 2.50 M (densidad de la disolución 1.08 g/mL).\n",
        " b)Disolución de KBr al 48.2% en masa"
      ],
      "metadata": {
        "id": "8EQAXGRMyBFq"
      }
    },
    {
      "cell_type": "code",
      "source": [
        "def calcular_molalidad(moles_soluto, masa_solvente):\n",
        "    molalidad = moles_soluto / masa_solvente\n",
        "    return molalidad\n",
        "\n",
        "# a) Disolución de NaCl 2.50 M (densidad de la disolución 1.08 g/mL)\n",
        "moles_NaCl = 2.50\n",
        "masa_agua = 0.934  # en kg (cálculo basado en la densidad)\n",
        "molalidad_NaCl = calcular_molalidad(moles_NaCl, masa_agua)\n",
        "print(\"a) Molalidad de NaCl:\", molalidad_NaCl)\n",
        "\n",
        "# b) Disolución de KBr al 48.2% en masa\n",
        "moles_KBr = 0.41\n",
        "masa_agua_KBr = 0.0518  # en kg\n",
        "molalidad_KBr = calcular_molalidad(moles_KBr, masa_agua_KBr)\n",
        "print(\"b) Molalidad de KBr:\", molalidad_KBr)\n"
      ],
      "metadata": {
        "id": "s_7He7NfxvHR",
        "colab": {
          "base_uri": "https://localhost:8080/"
        },
        "outputId": "40ca2bbc-44ae-4166-c3d8-e93a67ca9e09"
      },
      "execution_count": null,
      "outputs": [
        {
          "output_type": "stream",
          "name": "stdout",
          "text": [
            "a) Molalidad de NaCl: 2.6766595289079227\n",
            "b) Molalidad de KBr: 7.915057915057915\n"
          ]
        }
      ]
    },
    {
      "cell_type": "markdown",
      "source": [
        "\n",
        "\n",
        "---\n",
        "\n"
      ],
      "metadata": {
        "id": "qeYSI98lyG6E"
      }
    },
    {
      "cell_type": "markdown",
      "source": [
        "***Efecto de la temperatura en la solubilidad***"
      ],
      "metadata": {
        "id": "XbCZnvYMyIt0"
      }
    },
    {
      "cell_type": "markdown",
      "source": [
        "**1.** La solubilidad del KNO3 es de 155 g por 100 g de agua a 75°C, y de 38.0 g a 25°C. ¿Cuál es la masa (en gra- mos) de KNO, que cristalizará al enfriar exactamente 100 g de esta disolución saturada de 75°C a 25°C?"
      ],
      "metadata": {
        "id": "h6NbtIoLyS6e"
      }
    },
    {
      "cell_type": "code",
      "source": [
        "porcentaje_agua_25 = 72.46  # Porcentaje de agua a 25°C\n",
        "masa_agua_25 = 39.22  # Masa de agua a 25°C en gramos\n",
        "masa_total_25 = masa_agua_25 / (porcentaje_agua_25 / 100)\n",
        "\n",
        "masa_KNO3_25 = masa_total_25 - masa_agua_25\n",
        "\n",
        "masa_KNO3_75 = 60.78  # Masa de KNO3 a 75°C en gramos\n",
        "\n",
        "cantidad_cristalizada = masa_KNO3_75 - masa_KNO3_25\n",
        "print(\"Se cristalizará una cantidad de\", round(cantidad_cristalizada, 2), \"g de KNO₃.\")\n"
      ],
      "metadata": {
        "colab": {
          "base_uri": "https://localhost:8080/"
        },
        "id": "D3TjYusBzfAX",
        "outputId": "4af90e80-595e-4f04-ca7c-901434b10aac"
      },
      "execution_count": 9,
      "outputs": [
        {
          "output_type": "stream",
          "name": "stdout",
          "text": [
            "Se cristalizará una cantidad de 45.87 g de KNO₃.\n"
          ]
        }
      ]
    }
  ],
  "metadata": {
    "colab": {
      "provenance": [],
      "include_colab_link": true
    },
    "kernelspec": {
      "display_name": "Python 3",
      "name": "python3"
    },
    "language_info": {
      "name": "python"
    }
  },
  "nbformat": 4,
  "nbformat_minor": 0
}