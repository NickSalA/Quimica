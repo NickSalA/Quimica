{
  "nbformat": 4,
  "nbformat_minor": 0,
  "metadata": {
    "colab": {
      "provenance": [],
      "authorship_tag": "ABX9TyMRQoF/qCEvEAF5SNiu032s",
      "include_colab_link": true
    },
    "kernelspec": {
      "name": "python3",
      "display_name": "Python 3"
    },
    "language_info": {
      "name": "python"
    }
  },
  "cells": [
    {
      "cell_type": "markdown",
      "metadata": {
        "id": "view-in-github",
        "colab_type": "text"
      },
      "source": [
        "<a href=\"https://colab.research.google.com/github/NickSalA/Quimica/blob/PC/Untitled0.ipynb\" target=\"_parent\"><img src=\"https://colab.research.google.com/assets/colab-badge.svg\" alt=\"Open In Colab\"/></a>"
      ]
    },
    {
      "cell_type": "markdown",
      "source": [
        " ***1.1.*** Calcula el volumen ocupado por 2 moles de gas a una presión de 3 atmósferas y una temperatura de 300 K.\n"
      ],
      "metadata": {
        "id": "k0wGBgNHScJW"
      }
    },
    {
      "cell_type": "code",
      "source": [
        "n=2       #mol\n",
        "P=3       #atm\n",
        "T=300     #K\n",
        "R=0.082\n",
        "print(\"Formula aplicada: PV=RTn\")\n",
        "V=R*T*n/P  #L\n",
        "print(f'El volumen ocupado es {round(V,4)}L')"
      ],
      "metadata": {
        "colab": {
          "base_uri": "https://localhost:8080/"
        },
        "id": "-5IJSxkhNi82",
        "outputId": "83e3b377-8641-495e-b38d-03666bd30c9f"
      },
      "execution_count": 16,
      "outputs": [
        {
          "output_type": "stream",
          "name": "stdout",
          "text": [
            "Formula aplicada: PV=RTn\n",
            "El volumen ocupado es 16.4 L\n"
          ]
        }
      ]
    },
    {
      "cell_type": "markdown",
      "source": [
        "***1.2.*** En condiciones estándar, ¿cuántos moles de gas hay en 5 litros de oxígeno (O2)?"
      ],
      "metadata": {
        "id": "0vTCc2qwNc7O"
      }
    },
    {
      "cell_type": "code",
      "source": [
        "print(f'''En condiciones normales:\n",
        "T=273.15\n",
        "P=1\n",
        "R=0.0082''')\n",
        "V=5         #L\n",
        "T=273.15    #K\n",
        "P=1         #atm\n",
        "R=0.0821\n",
        "print(\"Formula aplicada: PV=RTn\")\n",
        "n=V*P/(R*T) #mol\n",
        "print(f'El numero de moles del gas es {round(n,4)}mol')\n",
        "\n"
      ],
      "metadata": {
        "colab": {
          "base_uri": "https://localhost:8080/"
        },
        "id": "RIovEtzMPAkt",
        "outputId": "7f267055-2ad4-46bf-fa62-2c27c4d64352"
      },
      "execution_count": 17,
      "outputs": [
        {
          "output_type": "stream",
          "name": "stdout",
          "text": [
            "En condiciones normales:\n",
            "T=273.15\n",
            "P=1\n",
            "R=0.0082\n",
            "Formula aplicada: PV=RTn\n",
            "El numero de moles del gas es 0.2232mol\n"
          ]
        }
      ]
    },
    {
      "cell_type": "markdown",
      "source": [
        "\n",
        "\n",
        "---\n",
        "\n"
      ],
      "metadata": {
        "id": "ploPNR2XS8g9"
      }
    },
    {
      "cell_type": "markdown",
      "source": [
        "***2.1.*** ¿Cuál es la principal característica que distingue a los gases de los líquidos y sólidos?"
      ],
      "metadata": {
        "id": "-rzzMAdVSMLH"
      }
    },
    {
      "cell_type": "markdown",
      "source": [
        "La principal característica que distingue a los gases de los líquidos y sólidos es su capacidad para ocupar todo el volumen del recipiente que los contiene.\n",
        "\n",
        "\n",
        "Mientras que los líquidos y sólidos tienen un volumen propio y una forma definida, los gases no tienen volumen propio ni forma propia, asumiendo la forma del contenedor en el que se encuentran. Esta propiedad se debe a que las partículas de los gases están muy separadas entre sí y se mueven en líneas rectas en direcciones aleatorias hasta que chocan con otra partícula o con la pared del contenedor."
      ],
      "metadata": {
        "id": "f2k3ML2gRqbV"
      }
    },
    {
      "cell_type": "markdown",
      "source": [
        "***2.5.*** ¿Por qué los gases no tienen una forma o un volumen definidos?\n"
      ],
      "metadata": {
        "id": "O1FJhf2tSkTV"
      }
    },
    {
      "cell_type": "markdown",
      "source": [
        "Los gases carecen de forma y volumen definidos debido a:\n",
        "\n",
        "1. *Fuerza de atracción intermolecular débil:*\n",
        "   Los gases tienen una atracción intermolecular mínima, permitiendo que sus moléculas se dispersen libremente en el espacio del contenedor.\n",
        "\n",
        "2. *Amplio espacio intermolecular:*\n",
        "   La considerable separación entre las moléculas de gas genera un gran espacio intermolecular, facilitando su expansión y ocupación total del recipiente.\n",
        "\n",
        "3. *Compresibilidad:*\n",
        "   Los gases son altamente compresibles debido al extenso espacio vacío entre sus moléculas, permitiendo una reducción significativa de volumen bajo presión. Esto contrasta con líquidos y sólidos menos compresibles debido a sus fuerzas intermoleculares más fuertes y menor espacio entre partículas.\n",
        "\n",
        "4. *Teoría cinético-molecular:*\n",
        "   La teoría cinético-molecular describe que las moléculas de gas se mueven aleatoriamente y colisionan entre sí y con las paredes del recipiente, lo que contribuye a la falta de forma y volumen definidos en los gases."
      ],
      "metadata": {
        "id": "ZrtqnSD3RQIG"
      }
    },
    {
      "cell_type": "markdown",
      "source": [
        "\n",
        "\n",
        "---\n",
        "\n"
      ],
      "metadata": {
        "id": "BE2dVxk2S-kO"
      }
    },
    {
      "cell_type": "markdown",
      "source": [
        "***3.1.*** Calcula la presión ejercida por 0.5 moles de gas en un recipiente de 10 litros a 25°C."
      ],
      "metadata": {
        "id": "qPlkFHOUTRGP"
      }
    },
    {
      "cell_type": "code",
      "source": [
        "n=0.5             #mol\n",
        "V=10              #L\n",
        "TCelsius=25       #°C\n",
        "T=25+273.15          #K\n",
        "R=0.0821\n",
        "print(\"Formula aplicada: PV=RTn\")\n",
        "P=R*T*n/V\n",
        "print(f'La presion ejercida es de {round(P,4)}atm')"
      ],
      "metadata": {
        "colab": {
          "base_uri": "https://localhost:8080/"
        },
        "id": "mFg8t-eCTWHt",
        "outputId": "99af1215-80a9-43de-98bc-50cc18cd446b"
      },
      "execution_count": 18,
      "outputs": [
        {
          "output_type": "stream",
          "name": "stdout",
          "text": [
            "Formula aplicada: PV=RTn\n",
            "La presion ejercida es de 1.2218atm\n"
          ]
        }
      ]
    },
    {
      "cell_type": "markdown",
      "source": [
        "***3.4.*** Si un gas ocupa 500 ml a una presión de 750 mmHg, ¿cuál es su volumen a 1 atmósfera?"
      ],
      "metadata": {
        "id": "57nUBGcqU8vG"
      }
    },
    {
      "cell_type": "code",
      "source": [
        "V1=500 #mL\n",
        "P1=750 #mmHg\n",
        "print(f'1 atm = 760mmHg')\n",
        "P2= 760 #mmHg\n",
        "print(\"Formula aplicada: V1*P1=V2*P2\")\n",
        "V2=V1*P1/P2\n",
        "print(f'El volumen a 1 atmosfera es {round(V2,4)}mL')"
      ],
      "metadata": {
        "colab": {
          "base_uri": "https://localhost:8080/"
        },
        "id": "NkcGzprjU_v_",
        "outputId": "c950bdea-1a17-448f-90da-a8519d783882"
      },
      "execution_count": 19,
      "outputs": [
        {
          "output_type": "stream",
          "name": "stdout",
          "text": [
            "1 atm = 760mmHg\n",
            "Formula aplicada: V1*P1=V2*P2\n",
            "El volumen a 1 atmosfera es 493.4211\n"
          ]
        }
      ]
    },
    {
      "cell_type": "markdown",
      "source": [
        "\n",
        "\n",
        "---\n",
        "\n"
      ],
      "metadata": {
        "id": "pEN3HZp0Wclm"
      }
    },
    {
      "cell_type": "markdown",
      "source": [
        "***4.1.*** ¿Cuáles son los postulados clave de la teoría cinético-molecular de los gases?"
      ],
      "metadata": {
        "id": "ByneqlVEWfC1"
      }
    },
    {
      "cell_type": "markdown",
      "source": [
        "Los postulados clave de la teoría cinético-molecular de los gases son:\n",
        "\n",
        "1. Las moléculas en un gas son pequeñas y están muy separadas. La mayor parte del volumen que ocupa un gas es espacio vacío.\n",
        "\n",
        "2. Las moléculas de gas están en constante movimiento aleatorio. Así como muchas moléculas se mueven en una dirección, también se mueven en cualquier otra.\n",
        "\n",
        "3. Las moléculas pueden chocar entre sí y con las paredes del contenedor. Las colisiones con las paredes explican la presión del gas.\n",
        "\n",
        "4. Las moléculas de gas no ejercen ninguna fuerza atractiva o repulsiva sobre las paredes del contenedor; por lo tanto, sus colisiones son elásticas (no implican una pérdida de energía).\n",
        "\n",
        "5. La energía cinética media de las moléculas de gas es proporcional a la temperatura kelvin del gas. Todos los gases, independientemente de su masa molecular, tienen la misma energía cinética media a una temperatura dada."
      ],
      "metadata": {
        "id": "nxqO45nBWteH"
      }
    },
    {
      "cell_type": "markdown",
      "source": [
        "***4.5.*** Explica por qué la teoría cinético-molecular se aplica mejor a los gases ideales que a los gases reales."
      ],
      "metadata": {
        "id": "-FLXHhK4W1OW"
      }
    },
    {
      "cell_type": "markdown",
      "source": [
        "La teoría cinético-molecular se aplica de manera más adecuada a los gases ideales que a los gases reales debido a varias razones:\n",
        "\n",
        "1. *Simplificación del modelo*: La teoría cinético-molecular es un modelo simplificado que asume condiciones ideales, como moléculas de tamaño despreciable y ausencia de fuerzas intermoleculares. Estas simplificaciones se ajustan mejor a los gases ideales, que tienen moléculas pequeñas y distancias intermoleculares grandes. En contraste, los gases reales tienen moléculas con volúmenes distintos de cero y experimentan fuerzas intermoleculares.\n",
        "\n",
        "2. *Comportamiento macroscópico*: La teoría cinético-molecular se basa en el movimiento aleatorio de moléculas y colisiones para explicar el comportamiento macroscópico de los gases. Aunque los gases reales también exhiben este comportamiento, las interacciones y volúmenes moleculares no despreciables afectan su comportamiento de manera significativa, aspectos no considerados en el modelo de gases ideales.\n",
        "\n",
        "3. *Desviaciones del comportamiento ideal*: Los gases reales no siguen completamente las leyes de los gases ideales, como las leyes de Boyle, Charles y Avogadro, debido a interacciones intermoleculares y volúmenes moleculares. Para describir el comportamiento de los gases reales, se han desarrollado ecuaciones más complejas, como la ecuación de van der Waals, que incorporan constantes empíricas para corregir estas desviaciones."
      ],
      "metadata": {
        "id": "rwJuJ_DSXgom"
      }
    },
    {
      "cell_type": "markdown",
      "source": [
        "\n",
        "\n",
        "---\n",
        "\n"
      ],
      "metadata": {
        "id": "WM5SN0sdXtG4"
      }
    },
    {
      "cell_type": "markdown",
      "source": [
        "***5.2.*** Si tienes un gas que ocupa 10 litros a 3 atmósferas de presión y 273 K de temperatura, ¿cuántos moles de gas tienes?"
      ],
      "metadata": {
        "id": "gkkSba-2XuBe"
      }
    },
    {
      "cell_type": "code",
      "source": [
        "\n",
        "P = 3  # atm\n",
        "V= 10  # L\n",
        "T = 273.15  # K\n",
        "R = 0.0821\n",
        "\n",
        "print(\"Formula aplicada: PV=RTn\")\n",
        "n = (P * V) / (R * T)\n",
        "\n",
        "print(f'La cantidad de moles de gas es: {round(n,4)}mol')\n"
      ],
      "metadata": {
        "colab": {
          "base_uri": "https://localhost:8080/"
        },
        "id": "LEvRx1gJX09t",
        "outputId": "6d54cdc3-d082-4ba9-c3a6-336fe986df17"
      },
      "execution_count": 20,
      "outputs": [
        {
          "output_type": "stream",
          "name": "stdout",
          "text": [
            "Formula aplicada: PV=RTn\n",
            "La cantidad de moles de gas es: 1.3385mol\n"
          ]
        }
      ]
    },
    {
      "cell_type": "markdown",
      "source": [
        "***5.3.*** ¿Cuál es el volumen molar de un gas ideal a 1 atmósfera de presión y 0°C?"
      ],
      "metadata": {
        "id": "Ff6Fpro8YWRG"
      }
    },
    {
      "cell_type": "code",
      "source": [
        "\n",
        "R = 0.0821\n",
        "P= 1  # atm\n",
        "T= 273.15  # K\n",
        "\n",
        "# Calcular el volumen molar en litros/mol\n",
        "volumen_molar = (R * T) / P\n",
        "print(f'El volumen molar del gas ideal a 1 atmósfera y 0°C es aproximadamente {round(volumen_molar,4)} L/mol')\n"
      ],
      "metadata": {
        "colab": {
          "base_uri": "https://localhost:8080/"
        },
        "id": "RzXiMWgGYSIu",
        "outputId": "1a4afd8c-5c95-4b34-d645-cada545a2afc"
      },
      "execution_count": 21,
      "outputs": [
        {
          "output_type": "stream",
          "name": "stdout",
          "text": [
            "El volumen molar del gas ideal a 1 atmósfera y 0°C es aproximadamente 22.4256 L/mol\n"
          ]
        }
      ]
    },
    {
      "cell_type": "code",
      "source": [],
      "metadata": {
        "id": "0pPJ2NbSaLZt"
      },
      "execution_count": null,
      "outputs": []
    }
  ]
}